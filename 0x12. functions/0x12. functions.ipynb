{
 "cells": [
  {
   "cell_type": "markdown",
   "id": "97d57270",
   "metadata": {},
   "source": [
    "**1. Defining a function in python**"
   ]
  },
  {
   "cell_type": "markdown",
   "id": "79013c80",
   "metadata": {},
   "source": [
    "def function_name (parameters):\n",
    "\n",
    "    function body"
   ]
  },
  {
   "cell_type": "code",
   "execution_count": 56,
   "id": "1c6f652f",
   "metadata": {},
   "outputs": [],
   "source": [
    "def simple():\n",
    "    print (\"My first function\")"
   ]
  },
  {
   "cell_type": "code",
   "execution_count": 57,
   "id": "7620cd63",
   "metadata": {},
   "outputs": [
    {
     "name": "stdout",
     "output_type": "stream",
     "text": [
      "My first function\n"
     ]
    }
   ],
   "source": [
    "simple()"
   ]
  },
  {
   "cell_type": "code",
   "execution_count": 58,
   "id": "31c24b89",
   "metadata": {},
   "outputs": [],
   "source": [
    "def plus_ten(a):\n",
    "    return a + 10"
   ]
  },
  {
   "cell_type": "code",
   "execution_count": 59,
   "id": "a3861f37",
   "metadata": {},
   "outputs": [
    {
     "data": {
      "text/plain": [
       "25"
      ]
     },
     "execution_count": 59,
     "metadata": {},
     "output_type": "execute_result"
    }
   ],
   "source": [
    "plus_ten(15)"
   ]
  },
  {
   "cell_type": "code",
   "execution_count": 60,
   "id": "3c9790cf",
   "metadata": {},
   "outputs": [
    {
     "data": {
      "text/plain": [
       "-95"
      ]
     },
     "execution_count": 60,
     "metadata": {},
     "output_type": "execute_result"
    }
   ],
   "source": [
    "plus_ten(-105)"
   ]
  },
  {
   "cell_type": "markdown",
   "id": "179b9d7c",
   "metadata": {},
   "source": [
    "How to Create a Function with a Parameter - Exercise #1\n",
    "\n",
    "Define a function called multiplication_by_2(x) that returns a value equal to its argument multiplied by 2."
   ]
  },
  {
   "cell_type": "code",
   "execution_count": 61,
   "id": "8583cc2a",
   "metadata": {},
   "outputs": [],
   "source": [
    "def multipliction_by_2(x):\n",
    "    return x * 2"
   ]
  },
  {
   "cell_type": "code",
   "execution_count": 62,
   "id": "015cf4a0",
   "metadata": {},
   "outputs": [
    {
     "data": {
      "text/plain": [
       "7.0"
      ]
     },
     "execution_count": 62,
     "metadata": {},
     "output_type": "execute_result"
    }
   ],
   "source": [
    " multipliction_by_2(3.5) "
   ]
  },
  {
   "cell_type": "markdown",
   "id": "fc09fe9e",
   "metadata": {},
   "source": [
    "**Exercise 2**\n",
    "\n",
    "How to Create a Function with a Parameter - Exercise #2\n",
    "\n",
    "\n",
    "Define a function called division_by_2(x) that returns a float value equal to its argument divided by 2"
   ]
  },
  {
   "cell_type": "code",
   "execution_count": 63,
   "id": "022f057e",
   "metadata": {},
   "outputs": [],
   "source": [
    "def division_by_2(x):\n",
    "    return float(x) / 2"
   ]
  },
  {
   "cell_type": "code",
   "execution_count": 64,
   "id": "5686b570",
   "metadata": {},
   "outputs": [
    {
     "data": {
      "text/plain": [
       "32.5"
      ]
     },
     "execution_count": 64,
     "metadata": {},
     "output_type": "execute_result"
    }
   ],
   "source": [
    "division_by_2(65)"
   ]
  },
  {
   "cell_type": "code",
   "execution_count": 65,
   "id": "e21e14fe",
   "metadata": {},
   "outputs": [],
   "source": [
    "def division_by_2(x):\n",
    "    return (x) / 2.0"
   ]
  },
  {
   "cell_type": "code",
   "execution_count": 66,
   "id": "8fb68af6",
   "metadata": {},
   "outputs": [
    {
     "data": {
      "text/plain": [
       "39.0"
      ]
     },
     "execution_count": 66,
     "metadata": {},
     "output_type": "execute_result"
    }
   ],
   "source": [
    "division_by_2(78)"
   ]
  },
  {
   "cell_type": "markdown",
   "id": "48863da6",
   "metadata": {},
   "source": [
    "**2. Defining a function part 2**"
   ]
  },
  {
   "cell_type": "code",
   "execution_count": 67,
   "id": "d39b2f26",
   "metadata": {},
   "outputs": [],
   "source": [
    "def plus_ten(a):\n",
    "    result = a + 15\n",
    "    print(\"Outcome\")\n",
    "    return result"
   ]
  },
  {
   "cell_type": "code",
   "execution_count": 68,
   "id": "1c3b6a0a",
   "metadata": {},
   "outputs": [
    {
     "name": "stdout",
     "output_type": "stream",
     "text": [
      "Outcome\n"
     ]
    },
    {
     "data": {
      "text/plain": [
       "60"
      ]
     },
     "execution_count": 68,
     "metadata": {},
     "output_type": "execute_result"
    }
   ],
   "source": [
    "plus_ten(45)"
   ]
  },
  {
   "cell_type": "markdown",
   "id": "1a224d21",
   "metadata": {},
   "source": [
    "**2. Exercise 1**\n",
    "\n",
    "Defining a Function in Python - Exercise #1\n",
    "\n",
    "Define a function called exponentiation_exp_2(x) that states the value of the argument accompanied by the phrase \"Raised to the power of 2:\" and returns a value equal to its argument raised to the power of 2. This time, use a new variable, called result, in the body of the Function. Call the function with some argument to verify it works properly."
   ]
  },
  {
   "cell_type": "code",
   "execution_count": 69,
   "id": "08b81662",
   "metadata": {},
   "outputs": [],
   "source": [
    "def exponentiation_exp_2(x):\n",
    "    result = x ** 2\n",
    "    print(x, \"Raised to the power of 2:\")\n",
    "    return result"
   ]
  },
  {
   "cell_type": "code",
   "execution_count": 70,
   "id": "da2ac370",
   "metadata": {},
   "outputs": [
    {
     "name": "stdout",
     "output_type": "stream",
     "text": [
      "45.7 Raised to the power of 2:\n"
     ]
    },
    {
     "data": {
      "text/plain": [
       "2088.4900000000002"
      ]
     },
     "execution_count": 70,
     "metadata": {},
     "output_type": "execute_result"
    }
   ],
   "source": [
    "exponentiation_exp_2(45.7)"
   ]
  },
  {
   "cell_type": "markdown",
   "id": "77c8e01d",
   "metadata": {},
   "source": [
    "**3. How to use a function in another function**"
   ]
  },
  {
   "cell_type": "code",
   "execution_count": 71,
   "id": "df8afa1d",
   "metadata": {},
   "outputs": [],
   "source": [
    "#function - wage - calculates your daily wage \n",
    "#assuming u are paid $25/hr\n",
    "#with a parameter - w_hours\n",
    "#returns w_hours multiplied by 25\n",
    "\n",
    "def wage(w_hours):\n",
    "    return w_hours * 25\n",
    "# 2. function - with_bonus()\n",
    "#where you have a bonus of $50\n",
    "\n",
    "def with_bonus(w_hours):\n",
    "    return wage(w_hours) + 50  "
   ]
  },
  {
   "cell_type": "code",
   "execution_count": 72,
   "id": "b08912d3",
   "metadata": {},
   "outputs": [
    {
     "data": {
      "text/plain": [
       "(200, 225)"
      ]
     },
     "execution_count": 72,
     "metadata": {},
     "output_type": "execute_result"
    }
   ],
   "source": [
    "wage(8), with_bonus(7)"
   ]
  },
  {
   "cell_type": "code",
   "execution_count": 73,
   "id": "0e79010d",
   "metadata": {},
   "outputs": [
    {
     "data": {
      "text/plain": [
       "175"
      ]
     },
     "execution_count": 73,
     "metadata": {},
     "output_type": "execute_result"
    }
   ],
   "source": [
    "7 * 25"
   ]
  },
  {
   "cell_type": "code",
   "execution_count": 74,
   "id": "1a8d4d29",
   "metadata": {},
   "outputs": [
    {
     "data": {
      "text/plain": [
       "225"
      ]
     },
     "execution_count": 74,
     "metadata": {},
     "output_type": "execute_result"
    }
   ],
   "source": [
    "175+50"
   ]
  },
  {
   "cell_type": "markdown",
   "id": "c8d40c6d",
   "metadata": {},
   "source": [
    "Hence\n",
    "- the first function: wage()\n",
    "- the second function: with_bonus()"
   ]
  },
  {
   "cell_type": "markdown",
   "id": "1424b187",
   "metadata": {},
   "source": [
    "**Exercise**\n",
    "\n",
    "- How to Use a Function within a Function - Exercise #\n",
    "    - Define a function called ***plus_five()*** that adds 5 to its argument. \n",
    "    - Then, define another function named ***m_by_3()*** that multiplies the argument (the result obtained from plus_five()) by 3. \n",
    "    - Verify your code was correct by calling the second function with an argument of 5. \n",
    "   \n",
    "    - **Was your output equal to 30?**"
   ]
  },
  {
   "cell_type": "code",
   "execution_count": 75,
   "id": "80c1bbe6",
   "metadata": {},
   "outputs": [
    {
     "data": {
      "text/plain": [
       "30"
      ]
     },
     "execution_count": 75,
     "metadata": {},
     "output_type": "execute_result"
    }
   ],
   "source": [
    "def plus_five(x):\n",
    "    return x + 5\n",
    "\n",
    "def m_by_3(x):\n",
    "    return plus_five(x) * 3\n",
    "\n",
    "m_by_3(5)"
   ]
  },
  {
   "cell_type": "markdown",
   "id": "7678cc17",
   "metadata": {},
   "source": [
    "**4. Combining Conditional Statements and Functions**"
   ]
  },
  {
   "cell_type": "markdown",
   "id": "41554a7b",
   "metadata": {},
   "source": [
    " - **if johnny has saved at least $100 by the end of the week he gets a bonus of **+$50** .**\n",
    " - if not **$0**"
   ]
  },
  {
   "cell_type": "code",
   "execution_count": 76,
   "id": "a06e989f",
   "metadata": {},
   "outputs": [],
   "source": [
    "def add_10(m):\n",
    "    if m >= 100:\n",
    "        m = m + 10\n",
    "        return m, \"Good job!\"\n",
    "    else:\n",
    "        return \"Save more!\", 100 - m"
   ]
  },
  {
   "cell_type": "code",
   "execution_count": 77,
   "id": "d1719c0f",
   "metadata": {},
   "outputs": [
    {
     "data": {
      "text/plain": [
       "('Save more!', 30)"
      ]
     },
     "execution_count": 77,
     "metadata": {},
     "output_type": "execute_result"
    }
   ],
   "source": [
    "add_10(70)"
   ]
  },
  {
   "cell_type": "code",
   "execution_count": 78,
   "id": "e4a80d32",
   "metadata": {},
   "outputs": [
    {
     "data": {
      "text/plain": [
       "(130, 'Good job!')"
      ]
     },
     "execution_count": 78,
     "metadata": {},
     "output_type": "execute_result"
    }
   ],
   "source": [
    "add_10(120)"
   ]
  },
  {
   "cell_type": "markdown",
   "id": "dfd00d9f",
   "metadata": {},
   "source": [
    "**Exercise**\n",
    "\n",
    "- Conditional Statements and Functions - Exercise #1\n",
    "\n",
    "    - Define a function, called **compare_the_two()**, with **two arguments.** \n",
    "    - If the **first one is greater than the second one**, \n",
    "    - let it **print \"Greater\"**. \n",
    "    - If the **second one is greater, it should print \"Less\".**\n",
    "    - Let it **print \"Equal\" if the two values are the same number.**"
   ]
  },
  {
   "cell_type": "code",
   "execution_count": 79,
   "id": "8d2270f4",
   "metadata": {},
   "outputs": [],
   "source": [
    "def compare_the_two(x,y):\n",
    "    if x > y:\n",
    "        return \"Greater\"\n",
    "    elif y > x:\n",
    "        return \"Less\"\n",
    "    else:\n",
    "        return \"Equal\""
   ]
  },
  {
   "cell_type": "code",
   "execution_count": 80,
   "id": "d3d72679",
   "metadata": {},
   "outputs": [
    {
     "data": {
      "text/plain": [
       "'Equal'"
      ]
     },
     "execution_count": 80,
     "metadata": {},
     "output_type": "execute_result"
    }
   ],
   "source": [
    "compare_the_two(8,8)"
   ]
  },
  {
   "cell_type": "code",
   "execution_count": 81,
   "id": "e3cacf3c",
   "metadata": {},
   "outputs": [
    {
     "data": {
      "text/plain": [
       "'Greater'"
      ]
     },
     "execution_count": 81,
     "metadata": {},
     "output_type": "execute_result"
    }
   ],
   "source": [
    "compare_the_two(8,5)"
   ]
  },
  {
   "cell_type": "code",
   "execution_count": 82,
   "id": "978653c8",
   "metadata": {},
   "outputs": [
    {
     "data": {
      "text/plain": [
       "'Less'"
      ]
     },
     "execution_count": 82,
     "metadata": {},
     "output_type": "execute_result"
    }
   ],
   "source": [
    "compare_the_two(-2.5,6)"
   ]
  },
  {
   "cell_type": "markdown",
   "id": "b52f6914",
   "metadata": {},
   "source": [
    "**5. Creating functions containing a few arguements**"
   ]
  },
  {
   "cell_type": "markdown",
   "id": "74e4a650",
   "metadata": {},
   "source": [
    "**syntax**\n",
    "\n",
    "def function_name (parameter #1, parameter#2, ...):\n",
    "    \n",
    "    function body"
   ]
  },
  {
   "cell_type": "markdown",
   "id": "208db0a3",
   "metadata": {},
   "source": [
    "def subtract_bc(a, b, c):\n",
    "    result = a - b * c\n",
    "    print ('Parameter a equals', a)\n",
    "    print ('Parameter b equals', b)\n",
    "    print ('Parameter c equals', c)\n",
    "    return result"
   ]
  },
  {
   "cell_type": "code",
   "execution_count": 85,
   "id": "960909aa",
   "metadata": {},
   "outputs": [],
   "source": [
    "def subtract_bc():\n",
    "    subtract_bc(15, 10, 3)"
   ]
  },
  {
   "cell_type": "markdown",
   "id": "2a6ce077",
   "metadata": {},
   "source": [
    "**6. Built-in functions**"
   ]
  },
  {
   "cell_type": "markdown",
   "id": "28ac9ea7",
   "metadata": {},
   "source": [
    "- are functions built-in the computer"
   ]
  },
  {
   "cell_type": "markdown",
   "id": "53896fbb",
   "metadata": {},
   "source": [
    "Example 1. type() function - describes the type of function"
   ]
  },
  {
   "cell_type": "code",
   "execution_count": null,
   "id": "1fbb7f2c",
   "metadata": {},
   "outputs": [],
   "source": [
    "type(10)"
   ]
  },
  {
   "cell_type": "markdown",
   "id": "012718ba",
   "metadata": {},
   "source": [
    "**2. data types: int(); float(); str() - transforms their arguements in an integer, float and string.**"
   ]
  },
  {
   "cell_type": "code",
   "execution_count": null,
   "id": "bf70a7d5",
   "metadata": {},
   "outputs": [],
   "source": [
    "int(5.0)"
   ]
  },
  {
   "cell_type": "code",
   "execution_count": null,
   "id": "d059ab05",
   "metadata": {},
   "outputs": [],
   "source": [
    "float(4)"
   ]
  },
  {
   "cell_type": "code",
   "execution_count": null,
   "id": "65bf79b9",
   "metadata": {},
   "outputs": [],
   "source": [
    "str('nine')"
   ]
  },
  {
   "cell_type": "code",
   "execution_count": null,
   "id": "4b44c5b3",
   "metadata": {},
   "outputs": [],
   "source": [
    "str(5)"
   ]
  },
  {
   "cell_type": "markdown",
   "id": "dccb33fc",
   "metadata": {},
   "source": [
    "**3. max() - points to the maximum number in a sequence.**"
   ]
  },
  {
   "cell_type": "code",
   "execution_count": null,
   "id": "459ec136",
   "metadata": {},
   "outputs": [],
   "source": [
    "max(15,5,-9.5,10,30,2)"
   ]
  },
  {
   "cell_type": "markdown",
   "id": "54a58c5b",
   "metadata": {},
   "source": [
    "**4. min() - returns the lowest value from a sequence of numbers.**"
   ]
  },
  {
   "cell_type": "code",
   "execution_count": null,
   "id": "257124e8",
   "metadata": {},
   "outputs": [],
   "source": [
    "min(15,5,-9.5,10,30,2)"
   ]
  },
  {
   "cell_type": "markdown",
   "id": "b987969e",
   "metadata": {},
   "source": [
    "**5. abs() - allows you to obtain the absolute value of its arguement.**"
   ]
  },
  {
   "cell_type": "code",
   "execution_count": null,
   "id": "015b5309",
   "metadata": {},
   "outputs": [],
   "source": [
    "z = -45\n",
    "abs(z)"
   ]
  },
  {
   "cell_type": "code",
   "execution_count": null,
   "id": "8a1ca4d9",
   "metadata": {},
   "outputs": [],
   "source": [
    "z = -20.15\n",
    "abs(z)"
   ]
  },
  {
   "cell_type": "markdown",
   "id": "c8f20b9b",
   "metadata": {},
   "source": [
    "**6. sum() - calculates the sum of all elements in a list designated as an arguement.**"
   ]
  },
  {
   "cell_type": "code",
   "execution_count": null,
   "id": "b4b8df1f",
   "metadata": {},
   "outputs": [],
   "source": [
    "list_1 = [15,5,-9.5,10,30,2]\n",
    "sum(list_1)"
   ]
  },
  {
   "cell_type": "markdown",
   "id": "8b15a3c4",
   "metadata": {},
   "source": [
    "**7. round(x,y) - returns the float of its arguement (x), rounded to a specified number of digits (y) after the decimal point.**"
   ]
  },
  {
   "cell_type": "code",
   "execution_count": null,
   "id": "e7309f7e",
   "metadata": {},
   "outputs": [],
   "source": [
    "round(3.2516, 1)"
   ]
  },
  {
   "cell_type": "markdown",
   "id": "89b3a6a7",
   "metadata": {},
   "source": [
    "**8. pow(x,y)  returns x to the power y**"
   ]
  },
  {
   "cell_type": "code",
   "execution_count": null,
   "id": "1732e801",
   "metadata": {},
   "outputs": [],
   "source": [
    "pow(5,2)"
   ]
  },
  {
   "cell_type": "markdown",
   "id": "178dbac0",
   "metadata": {},
   "source": [
    "**9. len() - returns the number of elements in an object.**"
   ]
  },
  {
   "cell_type": "code",
   "execution_count": null,
   "id": "78f6da24",
   "metadata": {},
   "outputs": [],
   "source": [
    "len('Kenneth Kibe')"
   ]
  },
  {
   "cell_type": "code",
   "execution_count": null,
   "id": "03d9d9ba",
   "metadata": {},
   "outputs": [],
   "source": [
    "len('KennethKibe')"
   ]
  },
  {
   "cell_type": "markdown",
   "id": "8215eef9",
   "metadata": {},
   "source": [
    "**EXERCISE**"
   ]
  },
  {
   "cell_type": "markdown",
   "id": "7b46ef07",
   "metadata": {},
   "source": [
    "Built-in Functions in Python - Exercise #1\n",
    "\n",
    "Obtain the maximum number among the values 25, 65, 890, and 15."
   ]
  },
  {
   "cell_type": "code",
   "execution_count": null,
   "id": "9fb79f8e",
   "metadata": {},
   "outputs": [],
   "source": [
    "max(25, 65, 890, 15)"
   ]
  },
  {
   "cell_type": "markdown",
   "id": "dcd34791",
   "metadata": {},
   "source": [
    "Obtain the minimum number among the values 25, 65, 890, and 15."
   ]
  },
  {
   "cell_type": "code",
   "execution_count": null,
   "id": "267146fb",
   "metadata": {},
   "outputs": [],
   "source": [
    "min(25, 65, 890, 15)"
   ]
  },
  {
   "cell_type": "markdown",
   "id": "b28a199b",
   "metadata": {},
   "source": [
    "Find the absolute value of -100."
   ]
  },
  {
   "cell_type": "code",
   "execution_count": null,
   "id": "74a7616f",
   "metadata": {},
   "outputs": [],
   "source": [
    "abs(-100)"
   ]
  },
  {
   "cell_type": "markdown",
   "id": "1e4d1a26",
   "metadata": {},
   "source": [
    "Round the value of 55.5."
   ]
  },
  {
   "cell_type": "code",
   "execution_count": null,
   "id": "ba61f9bf",
   "metadata": {},
   "outputs": [],
   "source": [
    "round(55.5)"
   ]
  },
  {
   "cell_type": "markdown",
   "id": "4bdb5dfc",
   "metadata": {},
   "source": [
    "Round 35.56789 to the third digit."
   ]
  },
  {
   "cell_type": "code",
   "execution_count": null,
   "id": "56ee1895",
   "metadata": {},
   "outputs": [],
   "source": [
    "round(35.56789, 3)"
   ]
  },
  {
   "cell_type": "code",
   "execution_count": null,
   "id": "c5096be0",
   "metadata": {},
   "outputs": [],
   "source": [
    "Numbers = [1, 5, 64, 24.5]\n",
    "sum(Numbers)"
   ]
  },
  {
   "cell_type": "markdown",
   "id": "07c982d2",
   "metadata": {},
   "source": [
    "Use a built-in function to raise 10 to the power of 3."
   ]
  },
  {
   "cell_type": "code",
   "execution_count": null,
   "id": "dadb98e5",
   "metadata": {},
   "outputs": [],
   "source": [
    "pow(10, 3)"
   ]
  },
  {
   "cell_type": "markdown",
   "id": "e6fbd28e",
   "metadata": {},
   "source": [
    "In one line of code, find how many characters there are in the word \"Elephant\"?"
   ]
  },
  {
   "cell_type": "code",
   "execution_count": null,
   "id": "a6b8618f",
   "metadata": {},
   "outputs": [],
   "source": [
    "len(\"Elephant\")"
   ]
  },
  {
   "cell_type": "markdown",
   "id": "4936a1b2",
   "metadata": {},
   "source": [
    "Create a function, called distance_from_zero(), that returns the absolute value of a provided single argument and prints a statement \"Not Possible\" if the argument provided is not a number. To solve the task, use the type() function in the body of distance_from_zero().\n",
    "\n",
    "Call the function with the values of -10 and \"cat\" to verify it works correctly."
   ]
  },
  {
   "cell_type": "code",
   "execution_count": null,
   "id": "c5fab924",
   "metadata": {},
   "outputs": [],
   "source": [
    "def distance_from_zero(x):\n",
    "    if type(x) == int or type(x) == float:\n",
    "        return abs(x)\n",
    "    else:\n",
    "        print(\"Not Possible\")\n",
    "\n",
    "distance_from_zero(-10)"
   ]
  },
  {
   "cell_type": "code",
   "execution_count": null,
   "id": "761e7ccc",
   "metadata": {},
   "outputs": [],
   "source": [
    "distance_from_zero(\"cat\")"
   ]
  },
  {
   "cell_type": "code",
   "execution_count": null,
   "id": "321e0e22",
   "metadata": {},
   "outputs": [],
   "source": []
  }
 ],
 "metadata": {
  "kernelspec": {
   "display_name": "Python 3 (ipykernel)",
   "language": "python",
   "name": "python3"
  },
  "language_info": {
   "codemirror_mode": {
    "name": "ipython",
    "version": 3
   },
   "file_extension": ".py",
   "mimetype": "text/x-python",
   "name": "python",
   "nbconvert_exporter": "python",
   "pygments_lexer": "ipython3",
   "version": "3.11.5"
  }
 },
 "nbformat": 4,
 "nbformat_minor": 5
}
