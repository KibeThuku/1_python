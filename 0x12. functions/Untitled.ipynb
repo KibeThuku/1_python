{
 "cells": [
  {
   "cell_type": "markdown",
   "id": "97d57270",
   "metadata": {},
   "source": [
    "**1. Defining a function in python**"
   ]
  },
  {
   "cell_type": "markdown",
   "id": "79013c80",
   "metadata": {},
   "source": [
    "def function_name (parameters):\n",
    "\n",
    "    function body"
   ]
  },
  {
   "cell_type": "code",
   "execution_count": 1,
   "id": "1c6f652f",
   "metadata": {},
   "outputs": [],
   "source": [
    "def simple():\n",
    "    print (\"My first function\")"
   ]
  },
  {
   "cell_type": "code",
   "execution_count": 3,
   "id": "7620cd63",
   "metadata": {},
   "outputs": [
    {
     "name": "stdout",
     "output_type": "stream",
     "text": [
      "My first function\n"
     ]
    }
   ],
   "source": [
    "simple()"
   ]
  },
  {
   "cell_type": "code",
   "execution_count": 5,
   "id": "31c24b89",
   "metadata": {},
   "outputs": [],
   "source": [
    "def plus_ten(a):\n",
    "    return a + 10"
   ]
  },
  {
   "cell_type": "code",
   "execution_count": 6,
   "id": "a3861f37",
   "metadata": {},
   "outputs": [
    {
     "data": {
      "text/plain": [
       "25"
      ]
     },
     "execution_count": 6,
     "metadata": {},
     "output_type": "execute_result"
    }
   ],
   "source": [
    "plus_ten(15)"
   ]
  },
  {
   "cell_type": "code",
   "execution_count": 7,
   "id": "3c9790cf",
   "metadata": {},
   "outputs": [
    {
     "data": {
      "text/plain": [
       "-95"
      ]
     },
     "execution_count": 7,
     "metadata": {},
     "output_type": "execute_result"
    }
   ],
   "source": [
    "plus_ten(-105)"
   ]
  },
  {
   "cell_type": "markdown",
   "id": "179b9d7c",
   "metadata": {},
   "source": [
    "How to Create a Function with a Parameter - Exercise #1\n",
    "\n",
    "Define a function called multiplication_by_2(x) that returns a value equal to its argument multiplied by 2."
   ]
  },
  {
   "cell_type": "code",
   "execution_count": 8,
   "id": "8583cc2a",
   "metadata": {},
   "outputs": [],
   "source": [
    "def multipliction_by_2(x):\n",
    "    return x * 2"
   ]
  },
  {
   "cell_type": "code",
   "execution_count": 9,
   "id": "015cf4a0",
   "metadata": {},
   "outputs": [
    {
     "data": {
      "text/plain": [
       "7.0"
      ]
     },
     "execution_count": 9,
     "metadata": {},
     "output_type": "execute_result"
    }
   ],
   "source": [
    " multipliction_by_2(3.5) "
   ]
  },
  {
   "cell_type": "markdown",
   "id": "fc09fe9e",
   "metadata": {},
   "source": [
    "**Exercise 2**\n",
    "\n",
    "How to Create a Function with a Parameter - Exercise #2\n",
    "\n",
    "\n",
    "Define a function called division_by_2(x) that returns a float value equal to its argument divided by 2"
   ]
  },
  {
   "cell_type": "code",
   "execution_count": 11,
   "id": "022f057e",
   "metadata": {},
   "outputs": [],
   "source": [
    "def division_by_2(x):\n",
    "    return float(x) / 2"
   ]
  },
  {
   "cell_type": "code",
   "execution_count": 12,
   "id": "5686b570",
   "metadata": {},
   "outputs": [
    {
     "data": {
      "text/plain": [
       "32.5"
      ]
     },
     "execution_count": 12,
     "metadata": {},
     "output_type": "execute_result"
    }
   ],
   "source": [
    "division_by_2(65)"
   ]
  },
  {
   "cell_type": "code",
   "execution_count": 13,
   "id": "e21e14fe",
   "metadata": {},
   "outputs": [],
   "source": [
    "def division_by_2(x):\n",
    "    return (x) / 2.0"
   ]
  },
  {
   "cell_type": "code",
   "execution_count": 15,
   "id": "8fb68af6",
   "metadata": {},
   "outputs": [
    {
     "data": {
      "text/plain": [
       "39.0"
      ]
     },
     "execution_count": 15,
     "metadata": {},
     "output_type": "execute_result"
    }
   ],
   "source": [
    "division_by_2(78)"
   ]
  },
  {
   "cell_type": "markdown",
   "id": "48863da6",
   "metadata": {},
   "source": [
    "**2. Defining a function part 2**"
   ]
  },
  {
   "cell_type": "code",
   "execution_count": 20,
   "id": "d39b2f26",
   "metadata": {},
   "outputs": [],
   "source": [
    "def plus_ten(a):\n",
    "    result = a + 15\n",
    "    print(\"Outcome\")\n",
    "    return result"
   ]
  },
  {
   "cell_type": "code",
   "execution_count": 21,
   "id": "1c3b6a0a",
   "metadata": {},
   "outputs": [
    {
     "name": "stdout",
     "output_type": "stream",
     "text": [
      "Outcome\n"
     ]
    },
    {
     "data": {
      "text/plain": [
       "60"
      ]
     },
     "execution_count": 21,
     "metadata": {},
     "output_type": "execute_result"
    }
   ],
   "source": [
    "plus_ten(45)"
   ]
  },
  {
   "cell_type": "markdown",
   "id": "1a224d21",
   "metadata": {},
   "source": [
    "**2. Exercise 1**\n",
    "\n",
    "Defining a Function in Python - Exercise #1\n",
    "\n",
    "Define a function called exponentiation_exp_2(x) that states the value of the argument accompanied by the phrase \"Raised to the power of 2:\" and returns a value equal to its argument raised to the power of 2. This time, use a new variable, called result, in the body of the Function. Call the function with some argument to verify it works properly."
   ]
  },
  {
   "cell_type": "code",
   "execution_count": 29,
   "id": "08b81662",
   "metadata": {},
   "outputs": [],
   "source": [
    "def exponentiation_exp_2(x):\n",
    "    result = x ** 2\n",
    "    print(x, \"Raised to the power of 2:\")\n",
    "    return result"
   ]
  },
  {
   "cell_type": "code",
   "execution_count": 30,
   "id": "da2ac370",
   "metadata": {},
   "outputs": [
    {
     "name": "stdout",
     "output_type": "stream",
     "text": [
      "45.7 Raised to the power of 2:\n"
     ]
    },
    {
     "data": {
      "text/plain": [
       "2088.4900000000002"
      ]
     },
     "execution_count": 30,
     "metadata": {},
     "output_type": "execute_result"
    }
   ],
   "source": [
    "exponentiation_exp_2(45.7)"
   ]
  },
  {
   "cell_type": "markdown",
   "id": "77c8e01d",
   "metadata": {},
   "source": [
    "**3. How to use a function in another function**"
   ]
  },
  {
   "cell_type": "code",
   "execution_count": 31,
   "id": "df8afa1d",
   "metadata": {},
   "outputs": [],
   "source": [
    "#function - wage - calculates your daily wage \n",
    "#assuming u are paid $25/hr\n",
    "#with a parameter - w_hours\n",
    "#returns w_hours multiplied by 25\n",
    "\n",
    "def wage(w_hours):\n",
    "    return w_hours * 25\n",
    "# 2. function - with_bonus()\n",
    "#where you have a bonus of $50\n",
    "\n",
    "def with_bonus(w_hours):\n",
    "    return wage(w_hours) + 50  "
   ]
  },
  {
   "cell_type": "code",
   "execution_count": 34,
   "id": "b08912d3",
   "metadata": {},
   "outputs": [
    {
     "data": {
      "text/plain": [
       "(200, 225)"
      ]
     },
     "execution_count": 34,
     "metadata": {},
     "output_type": "execute_result"
    }
   ],
   "source": [
    "wage(8), with_bonus(7)"
   ]
  },
  {
   "cell_type": "code",
   "execution_count": 35,
   "id": "0e79010d",
   "metadata": {},
   "outputs": [
    {
     "data": {
      "text/plain": [
       "175"
      ]
     },
     "execution_count": 35,
     "metadata": {},
     "output_type": "execute_result"
    }
   ],
   "source": [
    "7 * 25"
   ]
  },
  {
   "cell_type": "code",
   "execution_count": 36,
   "id": "1a8d4d29",
   "metadata": {},
   "outputs": [
    {
     "data": {
      "text/plain": [
       "225"
      ]
     },
     "execution_count": 36,
     "metadata": {},
     "output_type": "execute_result"
    }
   ],
   "source": [
    "175+50"
   ]
  },
  {
   "cell_type": "markdown",
   "id": "c8d40c6d",
   "metadata": {},
   "source": [
    "Hence\n",
    "- the first function: wage()\n",
    "- the second function: with_bonus()"
   ]
  },
  {
   "cell_type": "markdown",
   "id": "1424b187",
   "metadata": {},
   "source": [
    "**Exercise**\n",
    "\n",
    "- How to Use a Function within a Function - Exercise #\n",
    "    - Define a function called ***plus_five()*** that adds 5 to its argument. \n",
    "    - Then, define another function named ***m_by_3()*** that multiplies the argument (the result obtained from plus_five()) by 3. \n",
    "    - Verify your code was correct by calling the second function with an argument of 5. \n",
    "   \n",
    "    - **Was your output equal to 30?**"
   ]
  },
  {
   "cell_type": "code",
   "execution_count": 42,
   "id": "80c1bbe6",
   "metadata": {},
   "outputs": [
    {
     "data": {
      "text/plain": [
       "30"
      ]
     },
     "execution_count": 42,
     "metadata": {},
     "output_type": "execute_result"
    }
   ],
   "source": [
    "def plus_five(x):\n",
    "    return x + 5\n",
    "\n",
    "def m_by_3(x):\n",
    "    return plus_five(x) * 3\n",
    "\n",
    "m_by_3(5)"
   ]
  },
  {
   "cell_type": "markdown",
   "id": "7678cc17",
   "metadata": {},
   "source": [
    "**4. Combining Conditional Statements and Functions**"
   ]
  },
  {
   "cell_type": "markdown",
   "id": "41554a7b",
   "metadata": {},
   "source": [
    " - **if johnny has saved at least $100 by the end of the week he gets a bonus of **+$50** .**\n",
    " - if not **$0**"
   ]
  },
  {
   "cell_type": "code",
   "execution_count": 63,
   "id": "a06e989f",
   "metadata": {},
   "outputs": [],
   "source": [
    "def add_10(m):\n",
    "    if m >= 100:\n",
    "        m = m + 10\n",
    "        return m, \"Good job!\"\n",
    "    else:\n",
    "        return \"Save more!\", 100 - m"
   ]
  },
  {
   "cell_type": "code",
   "execution_count": 66,
   "id": "d1719c0f",
   "metadata": {},
   "outputs": [
    {
     "data": {
      "text/plain": [
       "('Save more!', 30)"
      ]
     },
     "execution_count": 66,
     "metadata": {},
     "output_type": "execute_result"
    }
   ],
   "source": [
    "add_10(70)"
   ]
  },
  {
   "cell_type": "code",
   "execution_count": 65,
   "id": "e4a80d32",
   "metadata": {},
   "outputs": [
    {
     "data": {
      "text/plain": [
       "(130, 'Good job!')"
      ]
     },
     "execution_count": 65,
     "metadata": {},
     "output_type": "execute_result"
    }
   ],
   "source": [
    "add_10(120)"
   ]
  },
  {
   "cell_type": "markdown",
   "id": "dfd00d9f",
   "metadata": {},
   "source": [
    "**Exercise**\n",
    "\n",
    "- Conditional Statements and Functions - Exercise #1\n",
    "\n",
    "    - Define a function, called **compare_the_two()**, with **two arguments.** \n",
    "    - If the **first one is greater than the second one**, \n",
    "    - let it **print \"Greater\"**. \n",
    "    - If the **second one is greater, it should print \"Less\".**\n",
    "    - Let it **print \"Equal\" if the two values are the same number.**"
   ]
  },
  {
   "cell_type": "code",
   "execution_count": 72,
   "id": "8d2270f4",
   "metadata": {},
   "outputs": [],
   "source": [
    "def compare_the_two(x,y):\n",
    "    if x > y:\n",
    "        return \"Greater\"\n",
    "    elif y > x:\n",
    "        return \"Less\"\n",
    "    else:\n",
    "        return \"Equal\""
   ]
  },
  {
   "cell_type": "code",
   "execution_count": 73,
   "id": "d3d72679",
   "metadata": {},
   "outputs": [
    {
     "data": {
      "text/plain": [
       "'Equal'"
      ]
     },
     "execution_count": 73,
     "metadata": {},
     "output_type": "execute_result"
    }
   ],
   "source": [
    "compare_the_two(8,8)"
   ]
  },
  {
   "cell_type": "code",
   "execution_count": 74,
   "id": "e3cacf3c",
   "metadata": {},
   "outputs": [
    {
     "data": {
      "text/plain": [
       "'Greater'"
      ]
     },
     "execution_count": 74,
     "metadata": {},
     "output_type": "execute_result"
    }
   ],
   "source": [
    "compare_the_two(8,5)"
   ]
  },
  {
   "cell_type": "code",
   "execution_count": 75,
   "id": "978653c8",
   "metadata": {},
   "outputs": [
    {
     "data": {
      "text/plain": [
       "'Less'"
      ]
     },
     "execution_count": 75,
     "metadata": {},
     "output_type": "execute_result"
    }
   ],
   "source": [
    "compare_the_two(-2.5,6)"
   ]
  },
  {
   "cell_type": "markdown",
   "id": "b52f6914",
   "metadata": {},
   "source": [
    "**5. Creating functions containing a few arguements**"
   ]
  },
  {
   "cell_type": "markdown",
   "id": "74e4a650",
   "metadata": {},
   "source": [
    "**syntax**\n",
    "\n",
    "def function_name (parameter #1, parameter#2, ...):\n",
    "    \n",
    "    function body"
   ]
  },
  {
   "cell_type": "code",
   "execution_count": 76,
   "id": "33eba7e9",
   "metadata": {},
   "outputs": [],
   "source": [
    "def subtract_bc(a, b, c):\n",
    "    result = a - b * c\n",
    "    print ('Parameter a equals', a)\n",
    "    print ('Parameter b equals', b)\n",
    "    print ('Parameter c equals', c)\n",
    "    return result"
   ]
  },
  {
   "cell_type": "code",
   "execution_count": 77,
   "id": "960909aa",
   "metadata": {},
   "outputs": [
    {
     "name": "stdout",
     "output_type": "stream",
     "text": [
      "Parameter a equals 15\n",
      "Parameter b equals 10\n",
      "Parameter c equals 3\n"
     ]
    },
    {
     "data": {
      "text/plain": [
       "-15"
      ]
     },
     "execution_count": 77,
     "metadata": {},
     "output_type": "execute_result"
    }
   ],
   "source": [
    "subtract_bc(15, 10, 3)"
   ]
  },
  {
   "cell_type": "markdown",
   "id": "2a6ce077",
   "metadata": {},
   "source": [
    "**6. Built-in functions**"
   ]
  },
  {
   "cell_type": "code",
   "execution_count": null,
   "id": "88b0fa30",
   "metadata": {},
   "outputs": [],
   "source": []
  }
 ],
 "metadata": {
  "kernelspec": {
   "display_name": "Python 3 (ipykernel)",
   "language": "python",
   "name": "python3"
  },
  "language_info": {
   "codemirror_mode": {
    "name": "ipython",
    "version": 3
   },
   "file_extension": ".py",
   "mimetype": "text/x-python",
   "name": "python",
   "nbconvert_exporter": "python",
   "pygments_lexer": "ipython3",
   "version": "3.11.5"
  }
 },
 "nbformat": 4,
 "nbformat_minor": 5
}
