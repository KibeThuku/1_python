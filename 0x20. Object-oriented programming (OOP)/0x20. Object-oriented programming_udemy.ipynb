{
 "cells": [
  {
   "cell_type": "markdown",
   "id": "6ea5a7ec",
   "metadata": {},
   "source": [
    "objects = strings + integers + floats + lists\n",
    "\n",
    "OOP programs - java, php, C++\n",
    "\n",
    "object = data + object manipulation\n",
    "\n",
    "each object belongs to a class (defines the rules for creating that object)"
   ]
  }
 ],
 "metadata": {
  "kernelspec": {
   "display_name": "Python 3 (ipykernel)",
   "language": "python",
   "name": "python3"
  },
  "language_info": {
   "codemirror_mode": {
    "name": "ipython",
    "version": 3
   },
   "file_extension": ".py",
   "mimetype": "text/x-python",
   "name": "python",
   "nbconvert_exporter": "python",
   "pygments_lexer": "ipython3",
   "version": "3.11.5"
  }
 },
 "nbformat": 4,
 "nbformat_minor": 5
}
