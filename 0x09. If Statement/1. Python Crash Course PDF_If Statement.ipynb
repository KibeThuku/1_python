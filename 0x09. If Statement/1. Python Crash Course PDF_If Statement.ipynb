{
 "cells": [
  {
   "cell_type": "markdown",
   "id": "bd8953ca",
   "metadata": {},
   "source": [
    "**1. Simple Example**"
   ]
  },
  {
   "cell_type": "code",
   "execution_count": 2,
   "id": "bc914097",
   "metadata": {},
   "outputs": [
    {
     "name": "stdout",
     "output_type": "stream",
     "text": [
      "Audi\n",
      "BMW\n",
      "Haval\n",
      "Mobius\n"
     ]
    }
   ],
   "source": [
    "cars = ['audi', 'bmw', 'haval', 'mobius']\n",
    "\n",
    "for car in cars:\n",
    "    if car == 'bmw':\n",
    "        print (car.upper())\n",
    "        #method upper() - prints all in uppercase\n",
    "    else:\n",
    "        print (car.title())\n",
    "        #method title() - prints first letter in capital"
   ]
  },
  {
   "cell_type": "markdown",
   "id": "a6122104",
   "metadata": {},
   "source": [
    "**2. Conditional Tests**"
   ]
  },
  {
   "cell_type": "markdown",
   "id": "87ded262",
   "metadata": {},
   "source": [
    "- **if statement is an expression that can be evaluated as True or False and is called a ***conditional test***.** \n",
    "- **Python uses the values True and False to decide whether the code in an if statement should be executed.** \n",
    "- **If a conditional test evaluates to True, Python executes the code following the if statement.** \n",
    "- **If the test evaluates to False, Python ignores the code following the if statement.**"
   ]
  },
  {
   "cell_type": "markdown",
   "id": "080fe85f",
   "metadata": {},
   "source": [
    "- **a) Checking for Equality**"
   ]
  },
  {
   "cell_type": "code",
   "execution_count": 3,
   "id": "f0894a2c",
   "metadata": {},
   "outputs": [],
   "source": [
    "car = 'bmw'"
   ]
  },
  {
   "cell_type": "code",
   "execution_count": 4,
   "id": "c93ecbe2",
   "metadata": {},
   "outputs": [
    {
     "data": {
      "text/plain": [
       "True"
      ]
     },
     "execution_count": 4,
     "metadata": {},
     "output_type": "execute_result"
    }
   ],
   "source": [
    "car =='bmw'"
   ]
  },
  {
   "cell_type": "code",
   "execution_count": 5,
   "id": "b4d7e972",
   "metadata": {},
   "outputs": [
    {
     "data": {
      "text/plain": [
       "False"
      ]
     },
     "execution_count": 5,
     "metadata": {},
     "output_type": "execute_result"
    }
   ],
   "source": [
    "car =='Mobius'"
   ]
  },
  {
   "cell_type": "markdown",
   "id": "c073b8aa",
   "metadata": {},
   "source": [
    "- **b) checking casewhen checking equality**"
   ]
  },
  {
   "cell_type": "code",
   "execution_count": 7,
   "id": "f3dff21f",
   "metadata": {},
   "outputs": [
    {
     "data": {
      "text/plain": [
       "True"
      ]
     },
     "execution_count": 7,
     "metadata": {},
     "output_type": "execute_result"
    }
   ],
   "source": [
    "car = 'audi'"
   ]
  },
  {
   "cell_type": "code",
   "execution_count": 8,
   "id": "8f1a566b",
   "metadata": {},
   "outputs": [
    {
     "data": {
      "text/plain": [
       "False"
      ]
     },
     "execution_count": 8,
     "metadata": {},
     "output_type": "execute_result"
    }
   ],
   "source": [
    "car == 'Audi'"
   ]
  },
  {
   "cell_type": "code",
   "execution_count": 9,
   "id": "004eea61",
   "metadata": {},
   "outputs": [
    {
     "data": {
      "text/plain": [
       "False"
      ]
     },
     "execution_count": 9,
     "metadata": {},
     "output_type": "execute_result"
    }
   ],
   "source": [
    "car.lower() == 'Audi'"
   ]
  },
  {
   "cell_type": "code",
   "execution_count": 10,
   "id": "1bd4e90d",
   "metadata": {},
   "outputs": [
    {
     "data": {
      "text/plain": [
       "True"
      ]
     },
     "execution_count": 10,
     "metadata": {},
     "output_type": "execute_result"
    }
   ],
   "source": [
    "car.lower() == 'audi'"
   ]
  },
  {
   "cell_type": "markdown",
   "id": "737136c6",
   "metadata": {},
   "source": [
    "- **c) checking for inequality ( != ) determine whether 2 values are equal**"
   ]
  },
  {
   "cell_type": "code",
   "execution_count": 11,
   "id": "3c87d642",
   "metadata": {},
   "outputs": [
    {
     "name": "stdout",
     "output_type": "stream",
     "text": [
      "Hold the chicken!\n"
     ]
    }
   ],
   "source": [
    "requested_topping = 'mushrooms'\n",
    "\n",
    "if requested_topping != 'chicken':\n",
    "    print (\"Hold the chicken!\")"
   ]
  },
  {
   "cell_type": "code",
   "execution_count": 12,
   "id": "f62d213a",
   "metadata": {},
   "outputs": [],
   "source": [
    "requested_topping = 'chicken'\n",
    "\n",
    "if requested_topping != 'chicken':\n",
    "    print (\"Hold the chicken!\")"
   ]
  },
  {
   "cell_type": "markdown",
   "id": "a78df946",
   "metadata": {},
   "source": [
    "- **d) checking whether a alue is in the list**"
   ]
  },
  {
   "cell_type": "code",
   "execution_count": 13,
   "id": "cb403c4f",
   "metadata": {},
   "outputs": [
    {
     "name": "stdout",
     "output_type": "stream",
     "text": [
      "Ken, you can post a response if you wish.\n"
     ]
    }
   ],
   "source": [
    "banned_users = ['Andrew', 'Kibe']\n",
    "user = 'Ken'\n",
    "\n",
    "if user not in banned_users:\n",
    "    print (f\"{user.title()}, you can post a response if you wish.\")"
   ]
  },
  {
   "cell_type": "markdown",
   "id": "a4ef3490",
   "metadata": {},
   "source": [
    "**3. If Statement**"
   ]
  },
  {
   "cell_type": "markdown",
   "id": "b1a9dd29",
   "metadata": {},
   "source": [
    "- **a) Simple if statement**"
   ]
  },
  {
   "cell_type": "markdown",
   "id": "f1bcfbe9",
   "metadata": {},
   "source": [
    "   - **The simplest kind of if statement has one test and one action:**\n",
    "   \n",
    "               if conditional_test:\n",
    "                    do something"
   ]
  },
  {
   "cell_type": "markdown",
   "id": "1e73743e",
   "metadata": {},
   "source": [
    "   - **If the conditional test evaluates to True, Python executes the code following the if statement.**\n",
    "\n",
    "        - **If the test evaluates to False, Python ignores the code following the if statement.**"
   ]
  },
  {
   "cell_type": "code",
   "execution_count": 14,
   "id": "4d734426",
   "metadata": {},
   "outputs": [
    {
     "name": "stdout",
     "output_type": "stream",
     "text": [
      "You are old enough to vote!\n"
     ]
    }
   ],
   "source": [
    "age =19\n",
    "\n",
    "if age >= 18:\n",
    "    print (\"You are old enough to vote!\")"
   ]
  },
  {
   "cell_type": "code",
   "execution_count": 15,
   "id": "b334a619",
   "metadata": {},
   "outputs": [],
   "source": [
    "age = 5"
   ]
  },
  {
   "cell_type": "markdown",
   "id": "56474df7",
   "metadata": {},
   "source": [
    "- **b) if-else Statement**"
   ]
  },
  {
   "cell_type": "markdown",
   "id": "09e996ba",
   "metadata": {},
   "source": [
    "   - **An if-else block is similar to a simple if statement,**\n",
    "     - **but the else statement allows you to define an action or set of actions that are executed when the conditional test fails.**"
   ]
  },
  {
   "cell_type": "markdown",
   "id": "bb82f415",
   "metadata": {},
   "source": [
    "age = 17\n",
    "\n",
    "if age >= 18:\n",
    "    print(\"You are old enough to vote!\")\n",
    "    print(\"Have you registered to vote yet?\")\n",
    "else:\n",
    "    print(\"Sorry, you are too young to vote.\")\n",
    "    print(\"Please register to vote as soon as you turn 18!\")"
   ]
  },
  {
   "cell_type": "code",
   "execution_count": 17,
   "id": "17650937",
   "metadata": {},
   "outputs": [],
   "source": [
    "age=25"
   ]
  },
  {
   "cell_type": "code",
   "execution_count": 19,
   "id": "0d352e4e",
   "metadata": {},
   "outputs": [
    {
     "name": "stdout",
     "output_type": "stream",
     "text": [
      "You are old enough to vote!\n",
      "Have you registered to vote yet?\n"
     ]
    }
   ],
   "source": [
    "age = 25\n",
    "\n",
    "if age >= 18:\n",
    "    print(\"You are old enough to vote!\")\n",
    "    print(\"Have you registered to vote yet?\")\n",
    "else:\n",
    "    print(\"Sorry, you are too young to vote.\")\n",
    "    print(\"Please register to vote as soon as you turn 18!\")"
   ]
  },
  {
   "cell_type": "markdown",
   "id": "ee3b81fb",
   "metadata": {},
   "source": [
    "- **c) if - elif - else**"
   ]
  },
  {
   "cell_type": "markdown",
   "id": "7ae2821a",
   "metadata": {},
   "source": [
    "- **It runs each conditional test in order until one passes.**\n",
    "\n",
    "- **When a test passes, the code following that test is executed and Python skips the rest of the tests.**"
   ]
  },
  {
   "cell_type": "markdown",
   "id": "998fb355",
   "metadata": {},
   "source": [
    "**Example**\n",
    "\n",
    "**Admission for anyone under age 4 is free.**\n",
    "\n",
    "**Admission for anyone between the ages of 4 and 18 is $25.**\n",
    "\n",
    "**Admission for anyone age 18 or older is $40.**"
   ]
  },
  {
   "cell_type": "code",
   "execution_count": 22,
   "id": "d1a330fb",
   "metadata": {},
   "outputs": [
    {
     "name": "stdout",
     "output_type": "stream",
     "text": [
      "Your admission cost is $25.00\n"
     ]
    }
   ],
   "source": [
    "age = 11\n",
    "\n",
    "if age <= 4:\n",
    "    print (\"Your admission cost is $0.0\")\n",
    "elif age <= 18:\n",
    "    print (\"Your admission cost is $25.00\")\n",
    "else:\n",
    "    print (\"Your admission cost is $40.00\")"
   ]
  },
  {
   "cell_type": "code",
   "execution_count": null,
   "id": "53ac177c",
   "metadata": {},
   "outputs": [],
   "source": [
    "\n"
   ]
  }
 ],
 "metadata": {
  "kernelspec": {
   "display_name": "Python 3 (ipykernel)",
   "language": "python",
   "name": "python3"
  },
  "language_info": {
   "codemirror_mode": {
    "name": "ipython",
    "version": 3
   },
   "file_extension": ".py",
   "mimetype": "text/x-python",
   "name": "python",
   "nbconvert_exporter": "python",
   "pygments_lexer": "ipython3",
   "version": "3.11.5"
  }
 },
 "nbformat": 4,
 "nbformat_minor": 5
}
