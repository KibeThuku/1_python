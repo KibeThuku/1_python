{
 "cells": [
  {
   "cell_type": "markdown",
   "id": "6ea5a7ec",
   "metadata": {},
   "source": [
    "objects = strings + integers + floats + lists\n",
    "\n",
    "OOP programs - java, php, C++\n",
    "\n",
    "object = data + object manipulation\n",
    "\n",
    "each object belongs to a class (defines the rules for creating that object)"
   ]
  },
  {
   "cell_type": "code",
   "execution_count": 7,
   "id": "6efd6bd2",
   "metadata": {},
   "outputs": [],
   "source": [
    "class Dog:\n",
    "    # define a class called DOG\n",
    "    # By convention capitalized names refer to classes\n",
    "    #There are no parentheses in the class definition because we’re creating this class from scratch\"\"\"\n",
    "    \n",
    "    \n",
    "    \"\"\"A simple attempt to model a dog\"\"\"\n",
    "    # triple quotation marks are used to multi-line comment\n",
    "    # docstring describing what this class does.\n",
    "    \n",
    "    \n",
    "    def __init__(self, name, age):\n",
    "        # **Method** is function that is part of a class\n",
    "        # Make sure to use two underscores on each side of __init__().\n",
    "        # __init__() method to have three parameters: self, name, and age.\n",
    "        # The self parameter is required in the method definition, \n",
    "        # and it must come first before the other parameters.\n",
    "          \n",
    "        \"\"\"Initialize name and age attributes \"\"\"\n",
    "        \n",
    "        self.name = name\n",
    "        self.age = age\n",
    "        # Any variable prefixed with self is available to every method in the class,\n",
    "        \n",
    "    def sit(self):\n",
    "        \"\"\"Simulate a dog sitting in response to a command.\"\"\"\n",
    "        print(f\"{self.name} is now siting.\")\n",
    "    \n",
    "    def roll_over(self):\n",
    "        \"\"\"Simulate a dog sitting in response to a command.\"\"\"\n",
    "        print(f\"{self.name} rolled over!\")\n",
    "        \n",
    "#this line of code generates nothing\n",
    "#we define each line of the code"
   ]
  },
  {
   "cell_type": "markdown",
   "id": "94b9effa",
   "metadata": {},
   "source": [
    "**2. Making an INSTANCE FROM a class**"
   ]
  },
  {
   "cell_type": "code",
   "execution_count": 9,
   "id": "366f6f64",
   "metadata": {},
   "outputs": [
    {
     "name": "stdout",
     "output_type": "stream",
     "text": [
      "My dog's name is Willie.\n",
      "My dog is 6 years old.\n"
     ]
    }
   ],
   "source": [
    "# making an instance from a class\n",
    "\n",
    "my_dog = Dog('Willie', 6)\n",
    "\n",
    "\"\"\"i bet this is calling the function __init__(self, name, age)\"\"\"\n",
    "\n",
    "print(f\"My dog's name is {my_dog.name}.\")\n",
    "print(f\"My dog is {my_dog.age} years old.\")\n",
    "\n",
    "#Dot notation is used to define the attribute value\n"
   ]
  },
  {
   "cell_type": "markdown",
   "id": "d18e1bfc",
   "metadata": {},
   "source": [
    "**3. calling methods**"
   ]
  },
  {
   "cell_type": "code",
   "execution_count": 10,
   "id": "5fad2cda",
   "metadata": {},
   "outputs": [
    {
     "name": "stdout",
     "output_type": "stream",
     "text": [
      "Willie is now siting.\n",
      "Willie rolled over!\n"
     ]
    }
   ],
   "source": [
    "my_dog.sit()\n",
    "my_dog.roll_over()"
   ]
  },
  {
   "cell_type": "markdown",
   "id": "660e209b",
   "metadata": {},
   "source": [
    "**4. we define another instance**"
   ]
  },
  {
   "cell_type": "code",
   "execution_count": 11,
   "id": "c94a5afc",
   "metadata": {},
   "outputs": [],
   "source": [
    "your_dog = Dog('Lucy', 3)"
   ]
  },
  {
   "cell_type": "markdown",
   "id": "eb09947d",
   "metadata": {},
   "source": [
    "**5. call out the prints out**"
   ]
  },
  {
   "cell_type": "code",
   "execution_count": 14,
   "id": "4f5f52a7",
   "metadata": {},
   "outputs": [
    {
     "name": "stdout",
     "output_type": "stream",
     "text": [
      "Your dog's name is Lucy.\n",
      "Your dog is 3 years old.\n",
      "Lucy is now siting.\n",
      "Lucy rolled over!\n"
     ]
    }
   ],
   "source": [
    "print(f\"Your dog's name is {your_dog.name}.\")\n",
    "print(f\"Your dog is {your_dog.age} years old.\")\n",
    "your_dog.sit()\n",
    "your_dog.roll_over()"
   ]
  },
  {
   "cell_type": "markdown",
   "id": "2a5ff9a5",
   "metadata": {},
   "source": [
    "**Exercise**"
   ]
  },
  {
   "cell_type": "markdown",
   "id": "d7c65eb8",
   "metadata": {},
   "source": [
    "9-1. Restaurant: \n",
    "\n",
    "- Make **a class called Restaurant.** \n",
    "        - The __init__() method for Restaurant should store two attributes: **a restaurant_name and a cuisine_type.**\n",
    "\n",
    "- Make a **method called describe_restaurant()** that prints these two pieces of information, and a method called open_restaurant() that prints a message indicating that the restaurant is open.\n",
    "\n",
    "\n",
    "Make an instance called restaurant from your class. Print the two attributes\n",
    "individually, and then call both methods.\n",
    "9-2. Three Restaurants: Start with your class from Exercise 9-1. Create three\n",
    "different instances from the class, and call describe_restaurant() for each\n",
    "instance.\n",
    "9-3. Users: Make a class called User. Create two attributes called first_name\n",
    "and last_name, and then create several other attributes that are typically stored\n",
    "in a user profile. Make a method called describe_user() that prints a summary\n",
    "of the user’s information. Make another method called greet_user() that prints\n",
    "a personalized greeting to the user.\n",
    "Create several instances representing different users, and call both methods\n",
    "for each user."
   ]
  },
  {
   "cell_type": "code",
   "execution_count": 34,
   "id": "c1cbe355",
   "metadata": {},
   "outputs": [],
   "source": [
    "class Restaurant:\n",
    "    \n",
    "    def __init__(self, restaurant_name, cuisine_type):\n",
    "        self.restaurant_name = restaurant_name\n",
    "        self.cuisine_type = cuisine_type\n",
    "        \n",
    "    def describe_resautaurant(self):\n",
    "        #this is a method i.e def describe_resautaurant(self)\n",
    "        \n",
    "        print(f\"{self.restaurant_name} is the most lavish restaurant in Nairobi, Kenya \\nregistered as a {self.cuisine_type}\")\n",
    "        \n",
    "    def open_restaurant(self):\n",
    "        print(f\"{self.restaurant_name} now open!\\n\")\n",
    "    "
   ]
  },
  {
   "cell_type": "code",
   "execution_count": 35,
   "id": "73da9a23",
   "metadata": {},
   "outputs": [
    {
     "name": "stdout",
     "output_type": "stream",
     "text": [
      "Stanford flies is the most lavish restaurant in Nairobi, Kenya \n",
      "registered as a Fast food\n",
      "Stanford flies now open!\n",
      "\n",
      "mojos is the most lavish restaurant in Nairobi, Kenya \n",
      "registered as a variety fast foods\n",
      "mojos now open!\n",
      "\n"
     ]
    }
   ],
   "source": [
    "rest_1 = Restaurant(\"Stanford flies\", \"Fast food\")\n",
    "rest_1.describe_resautaurant()\n",
    "rest_1.open_restaurant()\n",
    "\n",
    "rest_2 = Restaurant(\"mojos\", \"variety fast foods\")\n",
    "rest_2.describe_resautaurant()\n",
    "rest_2.open_restaurant()"
   ]
  },
  {
   "cell_type": "code",
   "execution_count": null,
   "id": "3d93d26f",
   "metadata": {},
   "outputs": [],
   "source": []
  }
 ],
 "metadata": {
  "kernelspec": {
   "display_name": "Python 3 (ipykernel)",
   "language": "python",
   "name": "python3"
  },
  "language_info": {
   "codemirror_mode": {
    "name": "ipython",
    "version": 3
   },
   "file_extension": ".py",
   "mimetype": "text/x-python",
   "name": "python",
   "nbconvert_exporter": "python",
   "pygments_lexer": "ipython3",
   "version": "3.11.5"
  }
 },
 "nbformat": 4,
 "nbformat_minor": 5
}
