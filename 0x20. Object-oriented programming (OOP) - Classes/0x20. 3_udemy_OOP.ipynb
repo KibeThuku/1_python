{
 "cells": [
  {
   "cell_type": "markdown",
   "id": "3bab2adc",
   "metadata": {},
   "source": [
    "- Objects - floaats, strings, floats are all objects.\n",
    "- each object belongs to a class\n",
    "- class >>>> object >>>> {attach} attributes\n",
    "- Example: uncle makes bicycles. He beongs to **\"Bike-Makers\" class\n",
    "- the bicycle is the **object/instances**\n",
    "- **Attributes/properties** it has include: \"color, size, type\"\n",
    "- **Method** - is a consequential logic sequence that can be applied to the object such as: \".turn_left(), .turn_right(), .slow_down()\"\n",
    "\n",
    "- focus should be on the object "
   ]
  },
  {
   "cell_type": "markdown",
   "id": "42db2715",
   "metadata": {},
   "source": [
    "- Example: \n",
    "- **class** - **\"List\"**\n",
    "- **object** (15.9, 12.4, 64.0) \n",
    "- **Attributes** - this are floats\n",
    "- **method:** include: \".extend(), .index()\"\n",
    "\n",
    "APPLICATIONS\n",
    "object.method()"
   ]
  },
  {
   "cell_type": "code",
   "execution_count": null,
   "id": "80d42214",
   "metadata": {},
   "outputs": [],
   "source": [
    " "
   ]
  }
 ],
 "metadata": {
  "kernelspec": {
   "display_name": "Python 3 (ipykernel)",
   "language": "python",
   "name": "python3"
  },
  "language_info": {
   "codemirror_mode": {
    "name": "ipython",
    "version": 3
   },
   "file_extension": ".py",
   "mimetype": "text/x-python",
   "name": "python",
   "nbconvert_exporter": "python",
   "pygments_lexer": "ipython3",
   "version": "3.11.5"
  }
 },
 "nbformat": 4,
 "nbformat_minor": 5
}
