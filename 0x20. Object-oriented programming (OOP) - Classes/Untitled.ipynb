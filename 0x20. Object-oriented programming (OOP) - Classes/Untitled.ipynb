{
 "cells": [
  {
   "cell_type": "code",
   "execution_count": 5,
   "id": "dcce82e9",
   "metadata": {},
   "outputs": [],
   "source": [
    "class Dog:\n",
    "    \"\"\"A simple attempt to model a dog.\"\"\"\n",
    "    \n",
    "    def __init__(self, name, age):\n",
    "        \"\"\"Initialize name and age attributes.\"\"\"\n",
    "        \n",
    "        self.name = name\n",
    "        self.age = age\n",
    "    \n",
    "    def sit(self):\n",
    "        \"\"\"Simulate a dog sitting in response to a command.\"\"\"\n",
    "        \n",
    "        print(f\"{self.name} is now sitting.\")\n",
    "\n",
    "    def roll_over(self):\n",
    "        \"\"\"Simulate rolling over in response\"\"\"\n",
    "        \n",
    "        print(f\"{self.name} rolled over!\")\n",
    "        \n"
   ]
  },
  {
   "cell_type": "code",
   "execution_count": 6,
   "id": "b5cc06e9",
   "metadata": {},
   "outputs": [
    {
     "name": "stdout",
     "output_type": "stream",
     "text": [
      "My dog's name is Willie.\n",
      "My dog is 6 years old.\n"
     ]
    }
   ],
   "source": [
    "my_dog = Dog('Willie', 6)\n",
    "\n",
    "print(f\"My dog's name is {my_dog.name}.\")\n",
    "print(f\"My dog is {my_dog.age} years old.\")"
   ]
  },
  {
   "cell_type": "code",
   "execution_count": null,
   "id": "a2b11e22",
   "metadata": {},
   "outputs": [],
   "source": []
  }
 ],
 "metadata": {
  "kernelspec": {
   "display_name": "Python 3 (ipykernel)",
   "language": "python",
   "name": "python3"
  },
  "language_info": {
   "codemirror_mode": {
    "name": "ipython",
    "version": 3
   },
   "file_extension": ".py",
   "mimetype": "text/x-python",
   "name": "python",
   "nbconvert_exporter": "python",
   "pygments_lexer": "ipython3",
   "version": "3.11.5"
  }
 },
 "nbformat": 4,
 "nbformat_minor": 5
}
