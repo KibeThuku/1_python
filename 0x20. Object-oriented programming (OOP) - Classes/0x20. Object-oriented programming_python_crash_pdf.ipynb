{
 "cells": [
  {
   "cell_type": "markdown",
   "id": "6ea5a7ec",
   "metadata": {},
   "source": [
    "objects = strings + integers + floats + lists\n",
    "\n",
    "OOP programs - java, php, C++\n",
    "\n",
    "object = data + object manipulation\n",
    "\n",
    "each object belongs to a class (defines the rules for creating that object)"
   ]
  },
  {
   "cell_type": "code",
   "execution_count": 7,
   "id": "41f3b9dd",
   "metadata": {},
   "outputs": [],
   "source": [
    "class Dog:\n",
    "    # define a class called DOG\n",
    "    # By convention capitalized names refer to classes\n",
    "    #There are no parentheses in the class definition because \n",
    "    #we’re creating this class from scratch\"\"\"\n",
    "    \n",
    "    \n",
    "    \"\"\"A simple attempt to model a dog\"\"\"\n",
    "    # triple quotation marks are used to multi-line comment\n",
    "    # docstring describing what this class does.\n",
    "    \n",
    "    \n",
    "    def __init__(self, name, age):\n",
    "        # **Method** is function that is part of a class\n",
    "        # Make sure to use two underscores on each side of __init__().\n",
    "        # __init__() method to have three parameters: self, name, and age.\n",
    "        # The self parameter is required in the method definition, \n",
    "        # and it must come first before the other parameters.\n",
    "          \n",
    "        \"\"\"Initialize name and age attributes \"\"\"\n",
    "        \n",
    "        self.name = name\n",
    "        self.age = age\n",
    "        # Any variable prefixed with self is available to every method in the class,\n",
    "        \n",
    "    def sit(self):\n",
    "        \"\"\"Simulate a dog sitting in response to a command.\"\"\"\n",
    "        print(f\"{self.name} is now siting.\")\n",
    "    \n",
    "    def roll_over(self):\n",
    "        \"\"\"Simulate a dog sitting in response to a command.\"\"\"\n",
    "        print(f\"{self.name} rolled over!\")\n",
    "        \n",
    "#this line of code generates nothing\n",
    "#we define each line of the code"
   ]
  },
  {
   "cell_type": "markdown",
   "id": "3cb1decd",
   "metadata": {},
   "source": [
    "**2. Making an INSTANCE FROM a class**"
   ]
  },
  {
   "cell_type": "code",
   "execution_count": 9,
   "id": "cfb552ff",
   "metadata": {},
   "outputs": [
    {
     "name": "stdout",
     "output_type": "stream",
     "text": [
      "My dog's name is Willie.\n",
      "My dog is 6 years old.\n"
     ]
    }
   ],
   "source": [
    "# making an instance from a class\n",
    "\n",
    "my_dog = Dog('Willie', 6)\n",
    "\n",
    "\"\"\"i bet this is calling the function __init__(self, name, age)\"\"\"\n",
    "\n",
    "print(f\"My dog's name is {my_dog.name}.\")\n",
    "print(f\"My dog is {my_dog.age} years old.\")\n",
    "\n",
    "#Dot notation is used to define the attribute value\n"
   ]
  },
  {
   "cell_type": "markdown",
   "id": "4f83748e",
   "metadata": {},
   "source": [
    "**3. calling methods**"
   ]
  },
  {
   "cell_type": "code",
   "execution_count": 10,
   "id": "2bdccf68",
   "metadata": {},
   "outputs": [
    {
     "name": "stdout",
     "output_type": "stream",
     "text": [
      "Willie is now siting.\n",
      "Willie rolled over!\n"
     ]
    }
   ],
   "source": [
    "my_dog.sit()\n",
    "my_dog.roll_over()"
   ]
  },
  {
   "cell_type": "markdown",
   "id": "acdd66cd",
   "metadata": {},
   "source": [
    "**4. we define another instance**"
   ]
  },
  {
   "cell_type": "code",
   "execution_count": 11,
   "id": "fa477a18",
   "metadata": {},
   "outputs": [],
   "source": [
    "your_dog = Dog('Lucy', 3)"
   ]
  },
  {
   "cell_type": "markdown",
   "id": "1075cadb",
   "metadata": {},
   "source": [
    "**5. call out the prints out**"
   ]
  },
  {
   "cell_type": "code",
   "execution_count": 14,
   "id": "a2f69421",
   "metadata": {},
   "outputs": [
    {
     "name": "stdout",
     "output_type": "stream",
     "text": [
      "Your dog's name is Lucy.\n",
      "Your dog is 3 years old.\n",
      "Lucy is now siting.\n",
      "Lucy rolled over!\n"
     ]
    }
   ],
   "source": [
    "print(f\"Your dog's name is {your_dog.name}.\")\n",
    "print(f\"Your dog is {your_dog.age} years old.\")\n",
    "your_dog.sit()\n",
    "your_dog.roll_over()"
   ]
  },
  {
   "cell_type": "markdown",
   "id": "3d285105",
   "metadata": {},
   "source": [
    "**Exercise**"
   ]
  },
  {
   "cell_type": "markdown",
   "id": "a01035f9",
   "metadata": {},
   "source": [
    "9-1. Restaurant: \n",
    "\n",
    "- Make **a class called Restaurant.** \n",
    "        - The __init__() method for Restaurant should store two attributes: **a restaurant_name and a cuisine_type.**\n",
    "\n",
    "- Make a **method called describe_restaurant()** that prints these two pieces of information, and a method called open_restaurant() that prints a message indicating that the restaurant is open.\n",
    "\n",
    "\n",
    "Make an instance called restaurant from your class. Print the two attributes\n",
    "individually, and then call both methods.\n",
    "9-2. Three Restaurants: Start with your class from Exercise 9-1. Create three\n",
    "different instances from the class, and call describe_restaurant() for each\n",
    "instance.\n",
    "9-3. Users: Make a class called User. Create two attributes called first_name\n",
    "and last_name, and then create several other attributes that are typically stored\n",
    "in a user profile. Make a method called describe_user() that prints a summary\n",
    "of the user’s information. Make another method called greet_user() that prints\n",
    "a personalized greeting to the user.\n",
    "Create several instances representing different users, and call both methods\n",
    "for each user."
   ]
  },
  {
   "cell_type": "code",
   "execution_count": 34,
   "id": "febb99a7",
   "metadata": {},
   "outputs": [],
   "source": [
    "class Restaurant:\n",
    "    \n",
    "    def __init__(self, restaurant_name, cuisine_type):\n",
    "        self.restaurant_name = restaurant_name\n",
    "        self.cuisine_type = cuisine_type\n",
    "        \n",
    "    def describe_resautaurant(self):\n",
    "        #this is a method i.e def describe_resautaurant(self)\n",
    "        \n",
    "        print(f\"{self.restaurant_name} is the most lavish restaurant in Nairobi, Kenya \\nregistered as a {self.cuisine_type}\")\n",
    "        \n",
    "    def open_restaurant(self):\n",
    "        print(f\"{self.restaurant_name} now open!\\n\")\n",
    "    "
   ]
  },
  {
   "cell_type": "code",
   "execution_count": 35,
   "id": "694e2026",
   "metadata": {},
   "outputs": [
    {
     "name": "stdout",
     "output_type": "stream",
     "text": [
      "Stanford flies is the most lavish restaurant in Nairobi, Kenya \n",
      "registered as a Fast food\n",
      "Stanford flies now open!\n",
      "\n",
      "mojos is the most lavish restaurant in Nairobi, Kenya \n",
      "registered as a variety fast foods\n",
      "mojos now open!\n",
      "\n"
     ]
    }
   ],
   "source": [
    "rest_1 = Restaurant(\"Stanford flies\", \"Fast food\")\n",
    "rest_1.describe_resautaurant()\n",
    "rest_1.open_restaurant()\n",
    "\n",
    "rest_2 = Restaurant(\"mojos\", \"variety fast foods\")\n",
    "rest_2.describe_resautaurant()\n",
    "rest_2.open_restaurant()"
   ]
  },
  {
   "cell_type": "markdown",
   "id": "b5f6aa60",
   "metadata": {},
   "source": [
    "**6. Working with classess and instances**"
   ]
  },
  {
   "cell_type": "code",
   "execution_count": 42,
   "id": "bf0a1610",
   "metadata": {},
   "outputs": [
    {
     "name": "stdout",
     "output_type": "stream",
     "text": [
      "Bmw X1 2022\n"
     ]
    }
   ],
   "source": [
    "class Car:\n",
    "    \n",
    "    def __init__(self, make, model, year):\n",
    "        \n",
    "        self.make = make\n",
    "        self.model = model\n",
    "        self.year = year\n",
    "        \n",
    "    def get_descriptive_name(self):\n",
    "        long_name = f\"{self.make} {self.model} {self.year}\"\n",
    "        return long_name.title()\n",
    "    \n",
    "my_new_car = Car(\"BMW\", \"X1\", \"2022\")\n",
    "print(my_new_car.get_descriptive_name())       "
   ]
  },
  {
   "cell_type": "markdown",
   "id": "cf0da562",
   "metadata": {},
   "source": [
    "**8. setting a default value for an attribute**"
   ]
  },
  {
   "cell_type": "code",
   "execution_count": 77,
   "id": "b20cc41a",
   "metadata": {},
   "outputs": [
    {
     "name": "stdout",
     "output_type": "stream",
     "text": [
      "Bmw X1 2019\n",
      "This car has 0 miles on it.\n"
     ]
    }
   ],
   "source": [
    "class Car:\n",
    "    def __init__(self, make, model, year):\n",
    "        self.make = make\n",
    "        self.model = model\n",
    "        self.year = year\n",
    "        \n",
    "#8.The default value to be set for an attribute**\n",
    "        self.odometer_reading = 0\n",
    "      \n",
    "    def get_descriptive_name(self):\n",
    "        long_name = f\"{self.make} {self.model} {self.year}\"\n",
    "        return long_name.title()\n",
    "    \n",
    "#8. create a new method to read the mileage\n",
    "    def read_odometer(self):\n",
    "        \"\"\"Print a statement showing the car's mileage.\"\"\"\n",
    "        \n",
    "        print(f\"This car has {self.odometer_reading} miles on it.\")\n",
    "        \n",
    "\n",
    "#Assign variables to the class Car\n",
    "my_new_car = Car('BMW', 'X1', 2019)\n",
    "\n",
    "print(my_new_car.get_descriptive_name())\n",
    "\n",
    "my_new_car.read_odometer()"
   ]
  },
  {
   "cell_type": "markdown",
   "id": "01ca8145",
   "metadata": {},
   "source": [
    "**9.modifying an attribute value**"
   ]
  },
  {
   "cell_type": "code",
   "execution_count": 76,
   "id": "6b1404bb",
   "metadata": {},
   "outputs": [
    {
     "name": "stdout",
     "output_type": "stream",
     "text": [
      "This car has 15.754 miles on it.\n"
     ]
    }
   ],
   "source": [
    "#9. modifing an attribute value\n",
    "\n",
    "my_new_car.odometer_reading = 15.754\n",
    "my_new_car.read_odometer()"
   ]
  },
  {
   "cell_type": "code",
   "execution_count": 75,
   "id": "5acf4973",
   "metadata": {},
   "outputs": [
    {
     "name": "stdout",
     "output_type": "stream",
     "text": [
      "This car has 15 miles on it.\n"
     ]
    }
   ],
   "source": [
    "#9. modifing an attribute value\n",
    "\n",
    "my_new_car.odometer_reading = 15\n",
    "my_new_car.read_odometer()"
   ]
  },
  {
   "cell_type": "markdown",
   "id": "742e8c2d",
   "metadata": {},
   "source": [
    "**10. modfying an attribute's value through a method**"
   ]
  },
  {
   "cell_type": "markdown",
   "id": "5700ecd6",
   "metadata": {},
   "source": [
    "- It can be helpful to have methods that update certain attributes for you.\n",
    "- Instead of accessing the attribute directly, you pass the new value to a method that handles the updating internally.\n",
    "- Here’s an example showing a method called update_odometer():"
   ]
  },
  {
   "cell_type": "code",
   "execution_count": 67,
   "id": "578d1866",
   "metadata": {},
   "outputs": [
    {
     "name": "stdout",
     "output_type": "stream",
     "text": [
      "Bmw X1 2019\n",
      "This car has 23 miles on it.\n"
     ]
    }
   ],
   "source": [
    "class Car:\n",
    "    def __init__(self, make, model, year):\n",
    "        self.make = make\n",
    "        self.model = model\n",
    "        self.year = year\n",
    "        \n",
    "#8.The default value to be set for an attribute**\n",
    "        self.odometer_reading = 0\n",
    "      \n",
    "    def get_descriptive_name(self):\n",
    "        long_name = f\"{self.make} {self.model} {self.year}\"\n",
    "        return long_name.title()\n",
    "    \n",
    "#8.create a new method to read the mileage\n",
    "    def read_odometer(self):\n",
    "        \"\"\"Print a statement showing the car's mileage.\"\"\"\n",
    "        \n",
    "        print(f\"This car has {self.odometer_reading} miles on it.\")\n",
    "\n",
    "#10. define a new method\n",
    "    def update_odometer(self, mileage):\n",
    "        #set the odometer_reading to the given value\n",
    "        \n",
    "        self.odometer_reading = mileage\n",
    "        \n",
    "        \n",
    "#Assign variables to the class Car\n",
    "my_new_car = Car('BMW', 'X1', 2019)\n",
    "\n",
    "print(my_new_car.get_descriptive_name())\n",
    "      \n",
    "my_new_car.update_odometer(23)\n",
    "my_new_car.read_odometer()  "
   ]
  },
  {
   "cell_type": "markdown",
   "id": "9e8a865e",
   "metadata": {},
   "source": [
    "**10.1 giving the update_odometer more functions**"
   ]
  },
  {
   "cell_type": "code",
   "execution_count": 74,
   "id": "d7695ecf",
   "metadata": {},
   "outputs": [
    {
     "name": "stdout",
     "output_type": "stream",
     "text": [
      "Bmw X1 2019\n",
      "This car has 23 miles on it.\n"
     ]
    }
   ],
   "source": [
    "class Car:\n",
    "    def __init__(self, make, model, year):\n",
    "        self.make = make\n",
    "        self.model = model\n",
    "        self.year = year\n",
    "        \n",
    "#8. The default value to be set for an attribute**\n",
    "        self.odometer_reading = 0\n",
    "      \n",
    "    def get_descriptive_name(self):\n",
    "        long_name = f\"{self.make} {self.model} {self.year}\"\n",
    "        return long_name.title()\n",
    "    \n",
    "#8. create a new method to read the mileage\n",
    "    def read_odometer(self):\n",
    "        \"\"\"Print a statement showing the car's mileage.\"\"\"\n",
    "        \n",
    "        print(f\"This car has {self.odometer_reading} miles on it.\")\n",
    "\n",
    "#10. define a new method\n",
    "    def update_odometer(self, mileage):\n",
    "        #set the odometer_reading to the given value\n",
    "        \n",
    "        \"\"\"\n",
    "        10.1\n",
    "        Set the odometer reading to the given value.\n",
    "        Reject the change if it attempts to roll the odometer back.\n",
    "        \"\"\"\n",
    "        \n",
    "        if mileage >= self.odometer_reading:\n",
    "            \n",
    "            self.odometer_reading = mileage\n",
    "            \n",
    "        else: \n",
    "            print(\"You can't roll back an odometer!\")\n",
    "        \n",
    "        \n",
    "#Assign variables to the class Car\n",
    "my_new_car = Car('BMW', 'X1', 2019)\n",
    "\n",
    "print(my_new_car.get_descriptive_name())\n",
    "      \n",
    "my_new_car.update_odometer(23)\n",
    "my_new_car.read_odometer()  "
   ]
  },
  {
   "cell_type": "code",
   "execution_count": 69,
   "id": "25744000",
   "metadata": {},
   "outputs": [
    {
     "name": "stdout",
     "output_type": "stream",
     "text": [
      "Bmw X1 2019\n",
      "This car has 120 miles on it.\n"
     ]
    }
   ],
   "source": [
    "print(my_new_car.get_descriptive_name())\n",
    "      \n",
    "my_new_car.update_odometer(120)\n",
    "my_new_car.read_odometer()  "
   ]
  },
  {
   "cell_type": "code",
   "execution_count": 70,
   "id": "701945d4",
   "metadata": {},
   "outputs": [
    {
     "name": "stdout",
     "output_type": "stream",
     "text": [
      "Bmw X1 2019\n",
      "You can't roll back an odometer!\n",
      "This car has 120 miles on it.\n"
     ]
    }
   ],
   "source": [
    "print(my_new_car.get_descriptive_name())\n",
    "      \n",
    "my_new_car.update_odometer(70)\n",
    "my_new_car.read_odometer()  "
   ]
  },
  {
   "cell_type": "markdown",
   "id": "13b6bce6",
   "metadata": {},
   "source": [
    "**11. Incrementing an Attribute's value through a method**"
   ]
  },
  {
   "cell_type": "code",
   "execution_count": 83,
   "id": "d34d009c",
   "metadata": {},
   "outputs": [
    {
     "name": "stdout",
     "output_type": "stream",
     "text": [
      "Bmw X1 2023\n",
      "This car has 127 miles on it.\n",
      "This car has 227 miles on it after service testing.\n",
      "This car has 227 miles on it.\n",
      "Subaru Outback 2015\n",
      "This car has 23500 miles on it.\n",
      "This car has 23600 miles on it after service testing.\n",
      "This car has 23600 miles on it.\n"
     ]
    }
   ],
   "source": [
    "class Car:\n",
    "    def __init__(self, make, model, year):\n",
    "        self.make = make\n",
    "        self.model = model\n",
    "        self.year = year\n",
    "        \n",
    "#8. The default value to be set for an attribute**\n",
    "        self.odometer_reading = 0\n",
    "      \n",
    "    def get_descriptive_name(self):\n",
    "        long_name = f\"{self.make} {self.model} {self.year}\"\n",
    "        return long_name.title()\n",
    "    \n",
    "#8. create a new method to read the mileage\n",
    "    def read_odometer(self):\n",
    "        \"\"\"Print a statement showing the car's mileage.\"\"\"\n",
    "        \n",
    "        print(f\"This car has {self.odometer_reading} miles on it.\")\n",
    "\n",
    "#10. define a new method\n",
    "    def update_odometer(self, mileage):\n",
    "        #set the odometer_reading to the given value\n",
    "        \n",
    "        \"\"\"\n",
    "        Set the odometer reading to the given value.\n",
    "        Reject the change if it attempts to roll the odometer back.\n",
    "        \"\"\"\n",
    "        \n",
    "        if mileage >= self.odometer_reading:\n",
    "            \n",
    "            self.odometer_reading = mileage\n",
    "            \n",
    "        else: \n",
    "            print(\"You can't roll back an odometer!\")\n",
    "            \n",
    "            \n",
    "            \n",
    "#11. define a new method to update an increment in mileage\n",
    "    def increment_odometer(self, miles):\n",
    "        \"\"\"Add the given amount to the odometer reading.\"\"\"\n",
    "        self.odometer_reading += miles\n",
    "        print(f\"This car has {self.odometer_reading} miles on it after service testing.\")\n",
    "\n",
    "        \n",
    "        \n",
    "#Assign variables to the class Car for my_new_car\n",
    "\n",
    "#1. defining __init__() function\n",
    "my_new_car = Car('BMW', 'X1', 2023)\n",
    "\n",
    "#2. calling the defined get_descriptive_name() function\n",
    "print(my_new_car.get_descriptive_name())\n",
    "\n",
    "#3. calling the update_odometer() function \n",
    "my_new_car.update_odometer(127)\n",
    "\n",
    "#4. calling the read_odometer() function \n",
    "my_new_car.read_odometer()\n",
    "\n",
    "#5. calling the increment_odometer() function \n",
    "my_new_car.increment_odometer(100)\n",
    "\n",
    "#6. calling the read_odometer() function\n",
    "my_new_car.read_odometer()\n",
    "\n",
    "\n",
    "\n",
    "#Assign variables to the class Car for my_used_car\n",
    "\n",
    "#1. defining __init__() function\n",
    "my_used_car = Car('subaru', 'outback', 2015)\n",
    "\n",
    "#2. calling the defined get_descriptive_name() function\n",
    "print(my_used_car.get_descriptive_name())\n",
    "\n",
    "#3. calling the update_odometer() function \n",
    "my_used_car.update_odometer(23_500)\n",
    "\n",
    "#4. calling the read_odometer() function \n",
    "my_used_car.read_odometer()\n",
    "\n",
    "#5. calling the increment_odometer() function \n",
    "my_used_car.increment_odometer(100)\n",
    "\n",
    "#6. calling the read_odometer() function\n",
    "my_used_car.read_odometer()"
   ]
  },
  {
   "cell_type": "markdown",
   "id": "aee5ba65",
   "metadata": {},
   "source": [
    "**12. INHERITANCE**"
   ]
  },
  {
   "cell_type": "markdown",
   "id": "82ac44ee",
   "metadata": {},
   "source": [
    "- You don’t always have to start from scratch when writing a class. \n",
    "- If the class you’re writing is a specialized version of another class you wrote, you can use inheritance. \n",
    "\n",
    "When one class inherits from another, it takes on the attributes\n",
    "and methods of the first class. \n",
    "- The original class is called **the parent class**, and the new class is **the child class**. \n",
    "- The child class can inherit any or all of the attributes and methods of its parent class, but it’s also free to define new attributes and methods of its own."
   ]
  },
  {
   "cell_type": "code",
   "execution_count": 93,
   "id": "c306cb24",
   "metadata": {},
   "outputs": [
    {
     "name": "stdout",
     "output_type": "stream",
     "text": [
      "Tesla Model S 2019\n",
      "My electric car is a Tesla Model S 2019\n",
      "\n",
      "Bmw X1 2023\n",
      "My diesel combustion car is a BMW X1 2023\n",
      "\n"
     ]
    }
   ],
   "source": [
    "#we begin by writing the parent class/superclass\n",
    "\n",
    "class Car:\n",
    "    def __init__(self, make, model, year):\n",
    "        self.make = make\n",
    "        self.model = model\n",
    "        self.year = year\n",
    "        self.odometer_reading = 0\n",
    "      \n",
    "    def get_descriptive_name(self):\n",
    "        long_name = f\"{self.make} {self.model} {self.year}\"\n",
    "        return long_name.title()\n",
    "    \n",
    "    def read_odometer(self):\n",
    "        \"\"\"Print a statement showing the car's mileage.\"\"\"\n",
    "        \n",
    "        print(f\"This car has {self.odometer_reading} miles on it.\")\n",
    "\n",
    "    def update_odometer(self, mileage):       \n",
    "        if mileage >= self.odometer_reading:\n",
    "            self.odometer_reading = mileage\n",
    "            \n",
    "        else: \n",
    "            print(\"You can't roll back an odometer!\")\n",
    "            \n",
    "    def increment_odometer(self, miles):\n",
    "        \"\"\"Add the given amount to the odometer reading.\"\"\"\n",
    "        self.odometer_reading += miles\n",
    "        \n",
    "#12. Inheritance\n",
    "# the parent class must be part of the current file and \n",
    "# must appear before the child class/subclass in the file.\n",
    "\n",
    "# we define the child class, ElectricCar. \n",
    "#The name of the parent class must be included in parentheses \n",
    "#in the definition of a child class.\n",
    "\n",
    "#The __init__() method at takes in the information \n",
    "#required to make a Car instance.\n",
    "\n",
    "#The super() function at is a special function \n",
    "#that allows you to call a method from the parent class.\n",
    "\n",
    "#super().__init__(make, model, year)\n",
    "#This line tells Python to call the __init__() method from Car, \n",
    "#which gives an ElectricCar instance all the attributes defined \n",
    "#in that method.\n",
    "\n",
    "\n",
    "\n",
    "class ElectricCar(Car):\n",
    "    \"\"\"Represent aspects of a car, specific to electric vehicles.\"\"\"\n",
    "    \n",
    "    def __init__(self, make, model, year):\n",
    "        \"\"\"Initialize attributes of the parent class.\"\"\"\n",
    "        \n",
    "        super().__init__(make, model, year)\n",
    "\n",
    "        \n",
    "my_tesla = ElectricCar('tesla', 'model s', 2019)\n",
    "print(my_tesla.get_descriptive_name())\n",
    "print(f\"My electric car is a {my_tesla.get_descriptive_name()}\\n\")\n",
    "\n",
    "my_new_car = Car('BMW', 'X1', 2023)\n",
    "print(my_new_car.get_descriptive_name())\n",
    "print(f\"My diesel combustion car is a {my_new_car.get_descriptive_name().upper()}\\n\")\n"
   ]
  },
  {
   "cell_type": "markdown",
   "id": "1ead922a",
   "metadata": {},
   "source": [
    "**13.Defining Attributes and Methods for the Child Class**"
   ]
  },
  {
   "cell_type": "code",
   "execution_count": 100,
   "id": "400f3f60",
   "metadata": {},
   "outputs": [
    {
     "name": "stdout",
     "output_type": "stream",
     "text": [
      "My electric car is a TESLA MODEL S 2019\n",
      "\n",
      "This car has a 75-kWh battery.\n"
     ]
    }
   ],
   "source": [
    "class Car:\n",
    "    def __init__(self, make, model, year):\n",
    "        self.make = make\n",
    "        self.model = model\n",
    "        self.year = year\n",
    "        self.odometer_reading = 0\n",
    "      \n",
    "    def get_descriptive_name(self):\n",
    "        long_name = f\"{self.make} {self.model} {self.year}\"\n",
    "        return long_name.title()\n",
    "    \n",
    "    def read_odometer(self):\n",
    "        print(f\"This car has {self.odometer_reading} miles on it.\")\n",
    "\n",
    "    def update_odometer(self, mileage):       \n",
    "        if mileage >= self.odometer_reading:\n",
    "            self.odometer_reading = mileage\n",
    "            \n",
    "        else: \n",
    "            print(\"You can't roll back an odometer!\")\n",
    "            \n",
    "    def increment_odometer(self, miles):\n",
    "        self.odometer_reading += miles\n",
    "        \n",
    "class ElectricCar(Car):\n",
    "    def __init__(self, make, model, year):\n",
    "        super().__init__(make, model, year)\n",
    "        \n",
    "        #13. adding another attribute\n",
    "        \n",
    "        self.battery_size = 75\n",
    "        \n",
    "    #13. defining a function to describe the size of the battery\n",
    "   \n",
    "    def describe_battery(self):\n",
    "        \n",
    "        #13. the message to output\n",
    "        \n",
    "        print(f\"This car has a {self.battery_size}-kWh battery.\")\n",
    "    \n",
    "\n",
    "        \n",
    "my_tesla = ElectricCar('tesla', 'model s', 2019)\n",
    "print(f\"My electric car is a {my_tesla.get_descriptive_name().upper()}\\n\")\n",
    "\n",
    "my_tesla.describe_battery()\n",
    "        \n"
   ]
  },
  {
   "cell_type": "code",
   "execution_count": null,
   "id": "09690f17",
   "metadata": {},
   "outputs": [],
   "source": []
  }
 ],
 "metadata": {
  "kernelspec": {
   "display_name": "Python 3 (ipykernel)",
   "language": "python",
   "name": "python3"
  },
  "language_info": {
   "codemirror_mode": {
    "name": "ipython",
    "version": 3
   },
   "file_extension": ".py",
   "mimetype": "text/x-python",
   "name": "python",
   "nbconvert_exporter": "python",
   "pygments_lexer": "ipython3",
   "version": "3.11.5"
  }
 },
 "nbformat": 4,
 "nbformat_minor": 5
}
