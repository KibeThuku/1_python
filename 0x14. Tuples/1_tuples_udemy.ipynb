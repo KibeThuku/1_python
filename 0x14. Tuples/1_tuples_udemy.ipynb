{
 "cells": [
  {
   "cell_type": "markdown",
   "id": "578453db",
   "metadata": {},
   "source": [
    "- **Tuples are a type of data sequences.**\n",
    "\n",
    "- **Tuples cannot be changed.** \n",
    "- **tuples elemements are placed in parantheses ().**\n"
   ]
  },
  {
   "cell_type": "code",
   "execution_count": 1,
   "id": "2866a240",
   "metadata": {},
   "outputs": [
    {
     "data": {
      "text/plain": [
       "(15, 24, 75)"
      ]
     },
     "execution_count": 1,
     "metadata": {},
     "output_type": "execute_result"
    }
   ],
   "source": [
    "x = (15, 24, 75)\n",
    "x"
   ]
  },
  {
   "cell_type": "markdown",
   "id": "6393b6c9",
   "metadata": {},
   "source": [
    "tuples are default sequence setting in python"
   ]
  },
  {
   "cell_type": "code",
   "execution_count": 4,
   "id": "5867cc9c",
   "metadata": {},
   "outputs": [
    {
     "data": {
      "text/plain": [
       "(45, 12, 4568)"
      ]
     },
     "execution_count": 4,
     "metadata": {},
     "output_type": "execute_result"
    }
   ],
   "source": [
    "y = 45, 12, 4568\n",
    "y"
   ]
  },
  {
   "cell_type": "code",
   "execution_count": 7,
   "id": "23cf4586",
   "metadata": {},
   "outputs": [
    {
     "data": {
      "text/plain": [
       "457"
      ]
     },
     "execution_count": 7,
     "metadata": {},
     "output_type": "execute_result"
    }
   ],
   "source": [
    "a, b, c = 45, 457, 85\n",
    "b"
   ]
  },
  {
   "cell_type": "code",
   "execution_count": 8,
   "id": "2a3426db",
   "metadata": {},
   "outputs": [
    {
     "data": {
      "text/plain": [
       "15"
      ]
     },
     "execution_count": 8,
     "metadata": {},
     "output_type": "execute_result"
    }
   ],
   "source": [
    "x[0]"
   ]
  },
  {
   "cell_type": "code",
   "execution_count": null,
   "id": "332c5bba",
   "metadata": {},
   "outputs": [],
   "source": []
  }
 ],
 "metadata": {
  "kernelspec": {
   "display_name": "Python 3 (ipykernel)",
   "language": "python",
   "name": "python3"
  },
  "language_info": {
   "codemirror_mode": {
    "name": "ipython",
    "version": 3
   },
   "file_extension": ".py",
   "mimetype": "text/x-python",
   "name": "python",
   "nbconvert_exporter": "python",
   "pygments_lexer": "ipython3",
   "version": "3.11.5"
  }
 },
 "nbformat": 4,
 "nbformat_minor": 5
}
