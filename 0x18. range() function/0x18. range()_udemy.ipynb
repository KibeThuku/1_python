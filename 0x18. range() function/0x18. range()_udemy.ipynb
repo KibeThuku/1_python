{
 "cells": [
  {
   "cell_type": "markdown",
   "id": "bca61950",
   "metadata": {},
   "source": [
    "range (start, stop, step)\n",
    "\n",
    "- start - first number in the list\n",
    "- stop = the last value +1\n",
    "- step = the distance btw each 2 consecutive values"
   ]
  },
  {
   "cell_type": "code",
   "execution_count": 1,
   "id": "808ab49a",
   "metadata": {},
   "outputs": [
    {
     "data": {
      "text/plain": [
       "range(0, 10)"
      ]
     },
     "execution_count": 1,
     "metadata": {},
     "output_type": "execute_result"
    }
   ],
   "source": [
    "range(10)"
   ]
  },
  {
   "cell_type": "code",
   "execution_count": 2,
   "id": "37e50371",
   "metadata": {},
   "outputs": [
    {
     "data": {
      "text/plain": [
       "range(0, 10)"
      ]
     },
     "execution_count": 2,
     "metadata": {},
     "output_type": "execute_result"
    }
   ],
   "source": [
    "range(0,10)"
   ]
  },
  {
   "cell_type": "code",
   "execution_count": 3,
   "id": "c3d6ee66",
   "metadata": {},
   "outputs": [
    {
     "data": {
      "text/plain": [
       "[0, 1, 2, 3, 4, 5, 6, 7, 8, 9]"
      ]
     },
     "execution_count": 3,
     "metadata": {},
     "output_type": "execute_result"
    }
   ],
   "source": [
    "list(range(10))"
   ]
  },
  {
   "cell_type": "code",
   "execution_count": 4,
   "id": "1d077f05",
   "metadata": {},
   "outputs": [
    {
     "data": {
      "text/plain": [
       "[5, 6, 7, 8, 9, 10, 11, 12, 13, 14]"
      ]
     },
     "execution_count": 4,
     "metadata": {},
     "output_type": "execute_result"
    }
   ],
   "source": [
    "list(range(5,15))"
   ]
  },
  {
   "cell_type": "code",
   "execution_count": 6,
   "id": "9e54bfd7",
   "metadata": {},
   "outputs": [
    {
     "data": {
      "text/plain": [
       "[5, 8, 11, 14]"
      ]
     },
     "execution_count": 6,
     "metadata": {},
     "output_type": "execute_result"
    }
   ],
   "source": [
    "list(range(5,15,3))"
   ]
  },
  {
   "cell_type": "code",
   "execution_count": 10,
   "id": "6bfa03f7",
   "metadata": {},
   "outputs": [
    {
     "data": {
      "text/plain": [
       "[]"
      ]
     },
     "execution_count": 10,
     "metadata": {},
     "output_type": "execute_result"
    }
   ],
   "source": [
    "list(range(5,15,-3))"
   ]
  },
  {
   "cell_type": "markdown",
   "id": "717fe0a8",
   "metadata": {},
   "source": [
    "Lists with the range() Function - Exercise #1\n",
    "\n",
    "\n",
    "Use the range() function to create a list with all numbers from 1 to 10"
   ]
  },
  {
   "cell_type": "code",
   "execution_count": 14,
   "id": "ba7a3fd7",
   "metadata": {},
   "outputs": [
    {
     "data": {
      "text/plain": [
       "[1, 3, 5, 7, 9]"
      ]
     },
     "execution_count": 14,
     "metadata": {},
     "output_type": "execute_result"
    }
   ],
   "source": [
    "list(range(1,10,2))"
   ]
  },
  {
   "cell_type": "markdown",
   "id": "fe3c1807",
   "metadata": {},
   "source": [
    "list(range(0,30,%2 == 0))"
   ]
  },
  {
   "cell_type": "markdown",
   "id": "041fcbaf",
   "metadata": {},
   "source": [
    "Use the range() function to create a list with all even numbers from 0 to 30 included."
   ]
  },
  {
   "cell_type": "code",
   "execution_count": 17,
   "id": "f9bdaece",
   "metadata": {},
   "outputs": [
    {
     "data": {
      "text/plain": [
       "[0, 2, 4, 6, 8, 10, 12, 14, 16, 18, 20, 22, 24, 26, 28, 30]"
      ]
     },
     "execution_count": 17,
     "metadata": {},
     "output_type": "execute_result"
    }
   ],
   "source": [
    "list(range(0,31,2))"
   ]
  },
  {
   "cell_type": "markdown",
   "id": "d936da45",
   "metadata": {},
   "source": [
    "in for loop \n"
   ]
  },
  {
   "cell_type": "code",
   "execution_count": 18,
   "id": "e28b7fbe",
   "metadata": {},
   "outputs": [
    {
     "name": "stdout",
     "output_type": "stream",
     "text": [
      "1 2 4 8 16 32 64 128 256 512 "
     ]
    }
   ],
   "source": [
    "for n in range(10):\n",
    "    print (2 ** n, end = \" \")"
   ]
  },
  {
   "cell_type": "code",
   "execution_count": null,
   "id": "cedca21b",
   "metadata": {},
   "outputs": [],
   "source": [
    "for x in range(20):\n",
    "     "
   ]
  }
 ],
 "metadata": {
  "kernelspec": {
   "display_name": "Python 3 (ipykernel)",
   "language": "python",
   "name": "python3"
  },
  "language_info": {
   "codemirror_mode": {
    "name": "ipython",
    "version": 3
   },
   "file_extension": ".py",
   "mimetype": "text/x-python",
   "name": "python",
   "nbconvert_exporter": "python",
   "pygments_lexer": "ipython3",
   "version": "3.11.5"
  }
 },
 "nbformat": 4,
 "nbformat_minor": 5
}
