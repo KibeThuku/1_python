{
 "cells": [
  {
   "cell_type": "code",
   "execution_count": 2,
   "id": "f4aff1d7",
   "metadata": {},
   "outputs": [
    {
     "name": "stdout",
     "output_type": "stream",
     "text": [
      "0 2 4 6 8 10 12 14 16 18 20 22 24 26 28 30 32 34 36 38 40 "
     ]
    }
   ],
   "source": [
    "x = 0\n",
    "while x <= 40:\n",
    "    print (x, end = \" \")\n",
    "    x = x + 2"
   ]
  },
  {
   "cell_type": "code",
   "execution_count": null,
   "id": "7bcd4fe0",
   "metadata": {},
   "outputs": [],
   "source": [
    "x = 0\n",
    "while x <= 40:\n",
    "    print (x, end = \" \")\n",
    "    x += 5"
   ]
  },
  {
   "cell_type": "markdown",
   "id": "81478459",
   "metadata": {},
   "source": [
    "While Loops and Incrementing - Exercise #1\n",
    "\n",
    "\n",
    "Create a while loop that will print all odd numbers from 0 to 30 on the same row."
   ]
  },
  {
   "cell_type": "code",
   "execution_count": 13,
   "id": "87131edd",
   "metadata": {},
   "outputs": [
    {
     "name": "stdout",
     "output_type": "stream",
     "text": [
      "1 3 5 7 9 11 13 15 17 19 21 23 25 27 29 "
     ]
    }
   ],
   "source": [
    "x = 0\n",
    "while x <= 30:\n",
    "    if x % 2 != 0:\n",
    "        print (x, end = \" \")\n",
    "    x = x + 1"
   ]
  },
  {
   "cell_type": "code",
   "execution_count": null,
   "id": "19df7bc0",
   "metadata": {},
   "outputs": [],
   "source": []
  }
 ],
 "metadata": {
  "kernelspec": {
   "display_name": "Python 3 (ipykernel)",
   "language": "python",
   "name": "python3"
  },
  "language_info": {
   "codemirror_mode": {
    "name": "ipython",
    "version": 3
   },
   "file_extension": ".py",
   "mimetype": "text/x-python",
   "name": "python",
   "nbconvert_exporter": "python",
   "pygments_lexer": "ipython3",
   "version": "3.11.5"
  }
 },
 "nbformat": 4,
 "nbformat_minor": 5
}
