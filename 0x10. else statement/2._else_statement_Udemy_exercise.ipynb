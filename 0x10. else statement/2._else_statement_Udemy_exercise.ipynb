{
 "cells": [
  {
   "cell_type": "markdown",
   "id": "0e6df5d4",
   "metadata": {},
   "source": [
    "**Else Statement**"
   ]
  },
  {
   "cell_type": "markdown",
   "id": "b78fa86c",
   "metadata": {},
   "source": [
    "if condition:\n",
    "    conditional code\n",
    "    \n",
    "else:\n",
    "    else code"
   ]
  },
  {
   "cell_type": "code",
   "execution_count": 7,
   "id": "300e3b09",
   "metadata": {},
   "outputs": [
    {
     "name": "stdout",
     "output_type": "stream",
     "text": [
      "A busy day\n"
     ]
    }
   ],
   "source": [
    "x = 102\n",
    "\n",
    "if x > 100:\n",
    "    print(\"A busy day\")\n",
    "else:\n",
    "    print(\"A calm day\")"
   ]
  }
 ],
 "metadata": {
  "kernelspec": {
   "display_name": "Python 3 (ipykernel)",
   "language": "python",
   "name": "python3"
  },
  "language_info": {
   "codemirror_mode": {
    "name": "ipython",
    "version": 3
   },
   "file_extension": ".py",
   "mimetype": "text/x-python",
   "name": "python",
   "nbconvert_exporter": "python",
   "pygments_lexer": "ipython3",
   "version": "3.11.5"
  }
 },
 "nbformat": 4,
 "nbformat_minor": 5
}
