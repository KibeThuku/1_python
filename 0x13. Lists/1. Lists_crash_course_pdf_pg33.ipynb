{
 "cells": [
  {
   "cell_type": "markdown",
   "id": "4d02968c",
   "metadata": {},
   "source": [
    "A list is a collection of items in a particular order\n",
    "\n",
    "A list can contain anything you want into a it, and the items in your list don’t have to be related in any particular way.\n",
    "\n",
    "In Python, square brackets ([]) indicate a list, and individual elements\n",
    "in the list are separated by commas."
   ]
  },
  {
   "cell_type": "code",
   "execution_count": 1,
   "id": "cf221f9d",
   "metadata": {},
   "outputs": [
    {
     "name": "stdout",
     "output_type": "stream",
     "text": [
      "['trek', 'cannondale', 'redline', 'specialized']\n"
     ]
    }
   ],
   "source": [
    "bicycles = ['trek', 'cannondale', 'redline', 'specialized']\n",
    "print(bicycles)"
   ]
  },
  {
   "cell_type": "markdown",
   "id": "abf376a8",
   "metadata": {},
   "source": [
    "**1. Accessing Elements in a list**"
   ]
  },
  {
   "cell_type": "markdown",
   "id": "a9bb8b93",
   "metadata": {},
   "source": [
    "you can access any element in a list by telling Python the **position, or index,** of the item desired\n",
    "\n",
    "write the name of the list followed by the index of the item enclosed in square brackets."
   ]
  },
  {
   "cell_type": "code",
   "execution_count": 3,
   "id": "6c6a34c4",
   "metadata": {},
   "outputs": [
    {
     "name": "stdout",
     "output_type": "stream",
     "text": [
      "trek\n"
     ]
    }
   ],
   "source": [
    "bicycles = ['trek', 'cannondale', 'redline', 'specialized']\n",
    "print(bicycles[0])"
   ]
  },
  {
   "cell_type": "code",
   "execution_count": 4,
   "id": "fe46730e",
   "metadata": {},
   "outputs": [
    {
     "name": "stdout",
     "output_type": "stream",
     "text": [
      "specialized\n"
     ]
    }
   ],
   "source": [
    "print(bicycles[-1])"
   ]
  },
  {
   "cell_type": "code",
   "execution_count": 6,
   "id": "ebc01467",
   "metadata": {},
   "outputs": [
    {
     "name": "stdout",
     "output_type": "stream",
     "text": [
      "redline\n"
     ]
    }
   ],
   "source": [
    "print(bicycles[-2])"
   ]
  },
  {
   "cell_type": "markdown",
   "id": "369f9081",
   "metadata": {},
   "source": [
    "**2. Using individual values from a list.**"
   ]
  },
  {
   "cell_type": "markdown",
   "id": "cdebd8cd",
   "metadata": {},
   "source": [
    "You can use f-strings to create a message based on a\n",
    "value from a list."
   ]
  },
  {
   "cell_type": "code",
   "execution_count": 7,
   "id": "409b4d68",
   "metadata": {},
   "outputs": [
    {
     "name": "stdout",
     "output_type": "stream",
     "text": [
      "My first bicycle was a Trek.\n"
     ]
    }
   ],
   "source": [
    "message = f\"My first bicycle was a {bicycles[0].title()}.\"\n",
    "\n",
    "print(message)"
   ]
  },
  {
   "cell_type": "markdown",
   "id": "e64aecea",
   "metadata": {},
   "source": [
    "**3. Modifying elements in a list.**"
   ]
  },
  {
   "cell_type": "markdown",
   "id": "8f80dbbf",
   "metadata": {},
   "source": [
    "To change an element,\n",
    "\n",
    "use the name of the list followed by the index of the element you want to change, and then provide the new value you want that item to have."
   ]
  },
  {
   "cell_type": "code",
   "execution_count": 8,
   "id": "d034057d",
   "metadata": {},
   "outputs": [
    {
     "name": "stdout",
     "output_type": "stream",
     "text": [
      "['honda', 'yamaha', 'suzuki']\n",
      "['ducati', 'yamaha', 'suzuki']\n"
     ]
    }
   ],
   "source": [
    "motorcycles = ['honda', 'yamaha', 'suzuki']\n",
    "print(motorcycles)\n",
    "\n",
    "motorcycles[0] = 'ducati'\n",
    "print(motorcycles)"
   ]
  },
  {
   "cell_type": "markdown",
   "id": "038c806d",
   "metadata": {},
   "source": [
    "**4. adding new element to a list - appending elements using append() function**"
   ]
  },
  {
   "cell_type": "code",
   "execution_count": 9,
   "id": "03c918f7",
   "metadata": {},
   "outputs": [
    {
     "name": "stdout",
     "output_type": "stream",
     "text": [
      "['honda', 'yamaha', 'suzuki']\n",
      "['honda', 'yamaha', 'suzuki', 'ducati']\n"
     ]
    }
   ],
   "source": [
    "motorcycles = ['honda', 'yamaha', 'suzuki']\n",
    "print(motorcycles)\n",
    "\n",
    "motorcycles.append('ducati')\n",
    "print(motorcycles)"
   ]
  },
  {
   "cell_type": "markdown",
   "id": "75989f60",
   "metadata": {},
   "source": [
    "**5. adding new elements using insert() function - u specify the (index, 'the value of the new element')**"
   ]
  },
  {
   "cell_type": "code",
   "execution_count": 10,
   "id": "a778465f",
   "metadata": {},
   "outputs": [
    {
     "name": "stdout",
     "output_type": "stream",
     "text": [
      "['ducati', 'honda', 'yamaha', 'suzuki']\n"
     ]
    }
   ],
   "source": [
    "motorcycles = ['honda', 'yamaha', 'suzuki']\n",
    "\n",
    "motorcycles.insert(0, 'ducati')\n",
    "print(motorcycles)"
   ]
  },
  {
   "cell_type": "markdown",
   "id": "27a3b694",
   "metadata": {},
   "source": [
    "**6. removing elements from a list.**"
   ]
  },
  {
   "cell_type": "markdown",
   "id": "0c9aca50",
   "metadata": {},
   "source": [
    "- **a. using del statement**"
   ]
  },
  {
   "cell_type": "code",
   "execution_count": 12,
   "id": "05cb579c",
   "metadata": {},
   "outputs": [
    {
     "name": "stdout",
     "output_type": "stream",
     "text": [
      "['honda', 'suzuki']\n"
     ]
    }
   ],
   "source": [
    "motorcycles = ['honda', 'yamaha', 'suzuki']\n",
    "\n",
    "del motorcycles[1]\n",
    "print(motorcycles)"
   ]
  },
  {
   "cell_type": "markdown",
   "id": "c518ebbf",
   "metadata": {},
   "source": [
    "- **b. using pop() method**"
   ]
  },
  {
   "cell_type": "markdown",
   "id": "d58b38c4",
   "metadata": {},
   "source": [
    "**In a web application, you might want to remove a user from a list of active members and then add that user to a list of inactive members.**\n",
    "\n",
    "The pop() method **removes the last item in a list**, but it lets you work\n",
    "with that item after removing it.\n"
   ]
  },
  {
   "cell_type": "code",
   "execution_count": 13,
   "id": "158d7281",
   "metadata": {},
   "outputs": [
    {
     "name": "stdout",
     "output_type": "stream",
     "text": [
      "['honda', 'yamaha', 'suzuki']\n",
      "['honda', 'yamaha']\n",
      "suzuki\n"
     ]
    }
   ],
   "source": [
    "motorcycles = ['honda', 'yamaha', 'suzuki']\n",
    "print(motorcycles)\n",
    "\n",
    "popped_motorcycle = motorcycles.pop()\n",
    "print(motorcycles)\n",
    "print(popped_motorcycle)"
   ]
  },
  {
   "cell_type": "markdown",
   "id": "eed6b59a",
   "metadata": {},
   "source": [
    "- **c. using remove() function - used when u do not know the index**"
   ]
  },
  {
   "cell_type": "code",
   "execution_count": 14,
   "id": "fe8d2f10",
   "metadata": {},
   "outputs": [
    {
     "name": "stdout",
     "output_type": "stream",
     "text": [
      "['honda', 'yamaha', 'suzuki', 'ducati']\n",
      "['honda', 'yamaha', 'suzuki']\n"
     ]
    }
   ],
   "source": [
    "motorcycles = ['honda', 'yamaha', 'suzuki', 'ducati']\n",
    "print(motorcycles)\n",
    "\n",
    "motorcycles.remove('ducati')\n",
    "print(motorcycles)"
   ]
  },
  {
   "cell_type": "code",
   "execution_count": 15,
   "id": "d08c6909",
   "metadata": {},
   "outputs": [
    {
     "name": "stdout",
     "output_type": "stream",
     "text": [
      "['honda', 'yamaha', 'suzuki', 'ducati']\n",
      "['honda', 'yamaha', 'suzuki']\n",
      "\n",
      "A Ducati is too expensive for me.\n"
     ]
    }
   ],
   "source": [
    "\n",
    "motorcycles = ['honda', 'yamaha', 'suzuki', 'ducati']\n",
    "print(motorcycles)\n",
    "\n",
    "too_expensive = 'ducati'\n",
    "motorcycles.remove(too_expensive)\n",
    "\n",
    "print(motorcycles)\n",
    "print(f\"\\nA {too_expensive.title()} is too expensive for me.\")"
   ]
  },
  {
   "cell_type": "markdown",
   "id": "60af8a34",
   "metadata": {},
   "source": [
    "**7. organizing a list - sort() method: stores the list alphabetically**"
   ]
  },
  {
   "cell_type": "code",
   "execution_count": 16,
   "id": "0c418194",
   "metadata": {},
   "outputs": [
    {
     "name": "stdout",
     "output_type": "stream",
     "text": [
      "['audi', 'bmw', 'subaru', 'toyota']\n"
     ]
    }
   ],
   "source": [
    "cars = ['bmw', 'audi', 'toyota', 'subaru']\n",
    "cars.sort()\n",
    "print(cars)"
   ]
  },
  {
   "cell_type": "markdown",
   "id": "f917eb6b",
   "metadata": {},
   "source": [
    "- **b. sort in reverse using (reverse=True) arguement**"
   ]
  },
  {
   "cell_type": "code",
   "execution_count": 17,
   "id": "1964c159",
   "metadata": {},
   "outputs": [
    {
     "name": "stdout",
     "output_type": "stream",
     "text": [
      "['toyota', 'subaru', 'bmw', 'audi']\n"
     ]
    }
   ],
   "source": [
    "cars = ['bmw', 'audi', 'toyota', 'subaru']\n",
    "\n",
    "cars.sort(reverse=True)\n",
    "print(cars)"
   ]
  },
  {
   "cell_type": "markdown",
   "id": "47bda7db",
   "metadata": {},
   "source": [
    "**8. length of a list**"
   ]
  },
  {
   "cell_type": "code",
   "execution_count": 2,
   "id": "1d975718",
   "metadata": {},
   "outputs": [
    {
     "data": {
      "text/plain": [
       "4"
      ]
     },
     "execution_count": 2,
     "metadata": {},
     "output_type": "execute_result"
    }
   ],
   "source": [
    "cars = ['bmw', 'audi', 'toyota', 'subaru']\n",
    "\n",
    "len(cars)"
   ]
  },
  {
   "cell_type": "markdown",
   "id": "6537e60a",
   "metadata": {},
   "source": [
    "**WORKING WITH LISTS**"
   ]
  },
  {
   "cell_type": "markdown",
   "id": "c1e40721",
   "metadata": {},
   "source": [
    "You’ll often want to run through all entries in a list, performing the same\n",
    "task with each item. \n",
    "\n",
    "For example, \n",
    "\n",
    "- in a game you might want to move every element on the screen by the same amount, or \n",
    "\n",
    "- in a list of numbers you might want to perform the same statistical operation on every element. \n",
    "\n",
    "- Or perhaps you’ll want to display each headline from a list of articles on a website.\n",
    "\n",
    "When you want to do the same action with every item in a list, you can\n",
    "use Python’s **for** loop."
   ]
  },
  {
   "cell_type": "code",
   "execution_count": 1,
   "id": "322541ec",
   "metadata": {},
   "outputs": [
    {
     "name": "stdout",
     "output_type": "stream",
     "text": [
      "alice\n",
      "david\n",
      "carolina\n"
     ]
    }
   ],
   "source": [
    "magicians = ['alice', 'david', 'carolina'] \n",
    "for magician in magicians:\n",
    "    print(magician)"
   ]
  },
  {
   "cell_type": "markdown",
   "id": "55fc8ff0",
   "metadata": {},
   "source": [
    "This line tells Python to pull a name from the list magicians, and associate it with the variable magician."
   ]
  },
  {
   "cell_type": "code",
   "execution_count": null,
   "id": "3780c2cf",
   "metadata": {},
   "outputs": [],
   "source": []
  }
 ],
 "metadata": {
  "kernelspec": {
   "display_name": "Python 3 (ipykernel)",
   "language": "python",
   "name": "python3"
  },
  "language_info": {
   "codemirror_mode": {
    "name": "ipython",
    "version": 3
   },
   "file_extension": ".py",
   "mimetype": "text/x-python",
   "name": "python",
   "nbconvert_exporter": "python",
   "pygments_lexer": "ipython3",
   "version": "3.11.5"
  }
 },
 "nbformat": 4,
 "nbformat_minor": 5
}
