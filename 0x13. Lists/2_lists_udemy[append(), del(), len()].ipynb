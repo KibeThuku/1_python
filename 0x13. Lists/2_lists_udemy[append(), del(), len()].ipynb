{
 "cells": [
  {
   "cell_type": "markdown",
   "id": "e781ab6b",
   "metadata": {},
   "source": [
    "**Definition - list is a type of sequence of data points**"
   ]
  },
  {
   "cell_type": "markdown",
   "id": "099335c8",
   "metadata": {},
   "source": [
    "**1. creating a list**"
   ]
  },
  {
   "cell_type": "code",
   "execution_count": 2,
   "id": "037655ca",
   "metadata": {},
   "outputs": [],
   "source": [
    "participants = ['John', 'Leila', 'Gregory', 'Cate']"
   ]
  },
  {
   "cell_type": "code",
   "execution_count": 3,
   "id": "880f00a2",
   "metadata": {},
   "outputs": [
    {
     "data": {
      "text/plain": [
       "['John', 'Leila', 'Gregory', 'Cate']"
      ]
     },
     "execution_count": 3,
     "metadata": {},
     "output_type": "execute_result"
    }
   ],
   "source": [
    "participants"
   ]
  },
  {
   "cell_type": "markdown",
   "id": "ea9b2201",
   "metadata": {},
   "source": [
    "**2. calling a specific string in a list**"
   ]
  },
  {
   "cell_type": "code",
   "execution_count": 4,
   "id": "f28a290d",
   "metadata": {},
   "outputs": [
    {
     "data": {
      "text/plain": [
       "'John'"
      ]
     },
     "execution_count": 4,
     "metadata": {},
     "output_type": "execute_result"
    }
   ],
   "source": [
    "participants[0]"
   ]
  },
  {
   "cell_type": "code",
   "execution_count": 17,
   "id": "f4a1622f",
   "metadata": {},
   "outputs": [
    {
     "name": "stdout",
     "output_type": "stream",
     "text": [
      "John\n"
     ]
    }
   ],
   "source": [
    "print(participants[0])"
   ]
  },
  {
   "cell_type": "code",
   "execution_count": 5,
   "id": "400d9ba5",
   "metadata": {},
   "outputs": [
    {
     "data": {
      "text/plain": [
       "'Cate'"
      ]
     },
     "execution_count": 5,
     "metadata": {},
     "output_type": "execute_result"
    }
   ],
   "source": [
    "participants[3]"
   ]
  },
  {
   "cell_type": "markdown",
   "id": "b437b116",
   "metadata": {},
   "source": [
    "**3. calling a specific string in a list in reverse**"
   ]
  },
  {
   "cell_type": "code",
   "execution_count": 6,
   "id": "e11058bd",
   "metadata": {},
   "outputs": [
    {
     "data": {
      "text/plain": [
       "'Cate'"
      ]
     },
     "execution_count": 6,
     "metadata": {},
     "output_type": "execute_result"
    }
   ],
   "source": [
    "participants[-1]"
   ]
  },
  {
   "cell_type": "code",
   "execution_count": 7,
   "id": "956544bd",
   "metadata": {},
   "outputs": [
    {
     "data": {
      "text/plain": [
       "'Gregory'"
      ]
     },
     "execution_count": 7,
     "metadata": {},
     "output_type": "execute_result"
    }
   ],
   "source": [
    "participants[-2]"
   ]
  },
  {
   "cell_type": "markdown",
   "id": "65e2d1a8",
   "metadata": {},
   "source": [
    "**4. changing a specific string**"
   ]
  },
  {
   "cell_type": "code",
   "execution_count": 8,
   "id": "b89bcca3",
   "metadata": {},
   "outputs": [],
   "source": [
    "participants[1] = 'Andrew'"
   ]
  },
  {
   "cell_type": "code",
   "execution_count": 10,
   "id": "5a38af6c",
   "metadata": {},
   "outputs": [
    {
     "data": {
      "text/plain": [
       "['John', 'Andrew', 'Gregory', 'Cate']"
      ]
     },
     "execution_count": 10,
     "metadata": {},
     "output_type": "execute_result"
    }
   ],
   "source": [
    "participants"
   ]
  },
  {
   "cell_type": "markdown",
   "id": "922d6f27",
   "metadata": {},
   "source": [
    "**5. deleting an element**"
   ]
  },
  {
   "cell_type": "code",
   "execution_count": 13,
   "id": "040ff35b",
   "metadata": {},
   "outputs": [],
   "source": [
    "del participants[2]"
   ]
  },
  {
   "cell_type": "code",
   "execution_count": 14,
   "id": "baf14925",
   "metadata": {},
   "outputs": [
    {
     "data": {
      "text/plain": [
       "['John', 'Andrew', 'Cate']"
      ]
     },
     "execution_count": 14,
     "metadata": {},
     "output_type": "execute_result"
    }
   ],
   "source": [
    "participants"
   ]
  },
  {
   "cell_type": "markdown",
   "id": "a6344259",
   "metadata": {},
   "source": [
    "**Exercise 1**"
   ]
  },
  {
   "cell_type": "markdown",
   "id": "df2956ca",
   "metadata": {},
   "source": [
    "Create a list, called Numbers. Let it contain the numbers 10, 25, 40, and 50.\n",
    "\n",
    "Print the element at index 2 from the list."
   ]
  },
  {
   "cell_type": "code",
   "execution_count": 18,
   "id": "162e46a5",
   "metadata": {},
   "outputs": [
    {
     "data": {
      "text/plain": [
       "40"
      ]
     },
     "execution_count": 18,
     "metadata": {},
     "output_type": "execute_result"
    }
   ],
   "source": [
    "Numbers = [10, 25, 40, 50]\n",
    "Numbers[2]"
   ]
  },
  {
   "cell_type": "markdown",
   "id": "6068f175",
   "metadata": {},
   "source": [
    "**Exercise 2**"
   ]
  },
  {
   "cell_type": "markdown",
   "id": "0a053e18",
   "metadata": {},
   "source": [
    "Print the 0th element from the Numbers list."
   ]
  },
  {
   "cell_type": "code",
   "execution_count": 19,
   "id": "8ae3d697",
   "metadata": {},
   "outputs": [
    {
     "data": {
      "text/plain": [
       "10"
      ]
     },
     "execution_count": 19,
     "metadata": {},
     "output_type": "execute_result"
    }
   ],
   "source": [
    "Numbers[0]"
   ]
  },
  {
   "cell_type": "markdown",
   "id": "1b0bd5a7",
   "metadata": {},
   "source": [
    "**Exercises 3**\n",
    "\n",
    "Print the third-to-last element from the Numbers list using a minus sign in the brackets."
   ]
  },
  {
   "cell_type": "code",
   "execution_count": 20,
   "id": "082757d6",
   "metadata": {},
   "outputs": [
    {
     "data": {
      "text/plain": [
       "25"
      ]
     },
     "execution_count": 20,
     "metadata": {},
     "output_type": "execute_result"
    }
   ],
   "source": [
    "Numbers = [10, 25, 40, 50]\n",
    "Numbers[-3]"
   ]
  },
  {
   "cell_type": "markdown",
   "id": "b20a0ac3",
   "metadata": {},
   "source": [
    "**Exercise 4**\n",
    "\n",
    "Replace the number 10 with the number 15 in the Numbers list."
   ]
  },
  {
   "cell_type": "code",
   "execution_count": 22,
   "id": "b8ecb410",
   "metadata": {},
   "outputs": [
    {
     "data": {
      "text/plain": [
       "[15, 25, 40, 50]"
      ]
     },
     "execution_count": 22,
     "metadata": {},
     "output_type": "execute_result"
    }
   ],
   "source": [
    "Numbers = [10, 25, 40, 50]\n",
    "Numbers[0] = 15\n",
    "\n",
    "Numbers"
   ]
  },
  {
   "cell_type": "markdown",
   "id": "6f85fc47",
   "metadata": {},
   "source": [
    "**Exercise 5**\n",
    "\n",
    "Delete the number 25 from the Numbers list."
   ]
  },
  {
   "cell_type": "code",
   "execution_count": 24,
   "id": "e0e02fde",
   "metadata": {},
   "outputs": [
    {
     "data": {
      "text/plain": [
       "[10, 40, 50]"
      ]
     },
     "execution_count": 24,
     "metadata": {},
     "output_type": "execute_result"
    }
   ],
   "source": [
    "Numbers = [10, 25, 40, 50]\n",
    "del Numbers[1] \n",
    "\n",
    "Numbers"
   ]
  },
  {
   "cell_type": "markdown",
   "id": "0962e801",
   "metadata": {},
   "source": [
    "**Exercise 6**\n",
    "\n",
    "Append the number 100 to the Numbers list."
   ]
  },
  {
   "cell_type": "code",
   "execution_count": 26,
   "id": "07c67c67",
   "metadata": {},
   "outputs": [
    {
     "data": {
      "text/plain": [
       "[15, 40, 50, 100]"
      ]
     },
     "execution_count": 26,
     "metadata": {},
     "output_type": "execute_result"
    }
   ],
   "source": [
    "Numbers = [15, 40, 50]\n",
    "Numbers.append(100)\n",
    "\n",
    "Numbers"
   ]
  },
  {
   "cell_type": "markdown",
   "id": "1e642e94",
   "metadata": {},
   "source": [
    "**Exercise 7**\n",
    "\n",
    "With the help of the .extend() method, add the numbers 115 an 140 to the Numbers list."
   ]
  },
  {
   "cell_type": "code",
   "execution_count": 37,
   "id": "8cedd3ae",
   "metadata": {},
   "outputs": [
    {
     "data": {
      "text/plain": [
       "[15, 40, 50, 100, 115, 140]"
      ]
     },
     "execution_count": 37,
     "metadata": {},
     "output_type": "execute_result"
    }
   ],
   "source": [
    "Numbers = [15, 40, 50, 100]\n",
    "o_Numbers = [115, 140]\n",
    "Numbers.extend(o_Numbers)\n",
    "\n",
    "Numbers"
   ]
  },
  {
   "cell_type": "code",
   "execution_count": 42,
   "id": "3cf278da",
   "metadata": {},
   "outputs": [
    {
     "name": "stdout",
     "output_type": "stream",
     "text": [
      "15\n"
     ]
    }
   ],
   "source": [
    "print(Numbers[0])"
   ]
  },
  {
   "cell_type": "markdown",
   "id": "71e66142",
   "metadata": {},
   "source": [
    "**Exercise 8**\n",
    "\n",
    "Print a statement, saying \"The fourth element of the Numbers list is\" followed by the value of the fourth element of the Numbers list. Ensure you use a trailing comma to concatenate the statement with the value."
   ]
  },
  {
   "cell_type": "code",
   "execution_count": 43,
   "id": "81067305",
   "metadata": {},
   "outputs": [
    {
     "name": "stdout",
     "output_type": "stream",
     "text": [
      "The fourth element of the Numbers list is 100\n"
     ]
    }
   ],
   "source": [
    "Numbers = [15, 40, 50, 100, 115, 140]\n",
    "\n",
    "print(f\"The fourth element of the Numbers list is\", Numbers[3])"
   ]
  },
  {
   "cell_type": "markdown",
   "id": "fc208cf8",
   "metadata": {},
   "source": [
    "**Exercise 9**"
   ]
  },
  {
   "cell_type": "markdown",
   "id": "b247a50e",
   "metadata": {},
   "source": [
    "Currently, how many elements are there in the Numbers list?"
   ]
  },
  {
   "cell_type": "code",
   "execution_count": 48,
   "id": "f9f5c25d",
   "metadata": {},
   "outputs": [
    {
     "data": {
      "text/plain": [
       "6"
      ]
     },
     "execution_count": 48,
     "metadata": {},
     "output_type": "execute_result"
    }
   ],
   "source": [
    "Numbers = [15, 40, 50, 100, 115, 140]\n",
    "len(Numbers)"
   ]
  },
  {
   "cell_type": "markdown",
   "id": "7b539f1a",
   "metadata": {},
   "source": [
    "Which is the syntax for invoking a method in Python?\n",
    "\n",
    "Name of the object, dot operator, name of the method, parantheses\n"
   ]
  },
  {
   "cell_type": "code",
   "execution_count": null,
   "id": "c9359127",
   "metadata": {},
   "outputs": [],
   "source": []
  }
 ],
 "metadata": {
  "kernelspec": {
   "display_name": "Python 3 (ipykernel)",
   "language": "python",
   "name": "python3"
  },
  "language_info": {
   "codemirror_mode": {
    "name": "ipython",
    "version": 3
   },
   "file_extension": ".py",
   "mimetype": "text/x-python",
   "name": "python",
   "nbconvert_exporter": "python",
   "pygments_lexer": "ipython3",
   "version": "3.11.5"
  }
 },
 "nbformat": 4,
 "nbformat_minor": 5
}
