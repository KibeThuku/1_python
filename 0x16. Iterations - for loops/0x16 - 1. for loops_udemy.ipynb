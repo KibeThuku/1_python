{
 "cells": [
  {
   "cell_type": "markdown",
   "id": "1e520d14",
   "metadata": {},
   "source": [
    "- even number list\n",
    "- this numbers to be printed\n",
    "- n is called a loop variable\n",
    "- the print () funcion is used as the loop of the body\n",
    "\n",
    "\n",
    "Steps\n",
    "- loop takes an element n fron the list \n",
    "- then prints the variable\n",
    "- repeats for all available elements in the list **[iterations]**"
   ]
  },
  {
   "cell_type": "code",
   "execution_count": 2,
   "id": "dbebb2e1",
   "metadata": {},
   "outputs": [],
   "source": [
    "even = [0,2,4,6,8,10,12,14,16,18,20]"
   ]
  },
  {
   "cell_type": "code",
   "execution_count": 3,
   "id": "0f446405",
   "metadata": {},
   "outputs": [
    {
     "name": "stdout",
     "output_type": "stream",
     "text": [
      "0\n",
      "2\n",
      "4\n",
      "6\n",
      "8\n",
      "10\n",
      "12\n",
      "14\n",
      "16\n",
      "18\n",
      "20\n"
     ]
    }
   ],
   "source": [
    "for n in even:\n",
    "    print (n)"
   ]
  },
  {
   "cell_type": "markdown",
   "id": "587416f7",
   "metadata": {},
   "source": [
    "alligning the result in a horizontal line"
   ]
  },
  {
   "cell_type": "code",
   "execution_count": 4,
   "id": "ab8f092d",
   "metadata": {},
   "outputs": [
    {
     "name": "stdout",
     "output_type": "stream",
     "text": [
      "0 2 4 6 8 10 12 14 16 18 20 "
     ]
    }
   ],
   "source": [
    "for n in even:\n",
    "    print (n, end = \" \")"
   ]
  },
  {
   "cell_type": "markdown",
   "id": "f1a33133",
   "metadata": {},
   "source": [
    "**iterations** is printing a number several times"
   ]
  },
  {
   "cell_type": "markdown",
   "id": "9a5863e0",
   "metadata": {},
   "source": [
    "Exercise 1\n",
    "\n",
    "Create a For loop that prints every digit on a new line."
   ]
  },
  {
   "cell_type": "code",
   "execution_count": 6,
   "id": "d91b5bed",
   "metadata": {},
   "outputs": [
    {
     "name": "stdout",
     "output_type": "stream",
     "text": [
      "0 1 2 3 4 5 6 7 8 9 "
     ]
    }
   ],
   "source": [
    "digits = [0,1,2,3,4,5,6,7,8,9]\n",
    "\n",
    "for d in digits:\n",
    "    print (d, end = \" \")"
   ]
  },
  {
   "cell_type": "code",
   "execution_count": null,
   "id": "7f6ccde8",
   "metadata": {},
   "outputs": [],
   "source": []
  }
 ],
 "metadata": {
  "kernelspec": {
   "display_name": "Python 3 (ipykernel)",
   "language": "python",
   "name": "python3"
  },
  "language_info": {
   "codemirror_mode": {
    "name": "ipython",
    "version": 3
   },
   "file_extension": ".py",
   "mimetype": "text/x-python",
   "name": "python",
   "nbconvert_exporter": "python",
   "pygments_lexer": "ipython3",
   "version": "3.11.5"
  }
 },
 "nbformat": 4,
 "nbformat_minor": 5
}
