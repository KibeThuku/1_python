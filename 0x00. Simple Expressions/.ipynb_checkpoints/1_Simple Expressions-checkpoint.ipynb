{
 "cells": [
  {
   "cell_type": "markdown",
   "id": "e977af65",
   "metadata": {},
   "source": [
    "Addition in python"
   ]
  },
  {
   "cell_type": "code",
   "execution_count": 8,
   "id": "e74b83de",
   "metadata": {},
   "outputs": [
    {
     "data": {
      "text/plain": [
       "4"
      ]
     },
     "execution_count": 8,
     "metadata": {},
     "output_type": "execute_result"
    }
   ],
   "source": [
    "2+2"
   ]
  },
  {
   "cell_type": "markdown",
   "id": "0dd2b4dc",
   "metadata": {},
   "source": [
    "Subtraction"
   ]
  },
  {
   "cell_type": "code",
   "execution_count": 9,
   "id": "6aec7613",
   "metadata": {},
   "outputs": [
    {
     "data": {
      "text/plain": [
       "7.0"
      ]
     },
     "execution_count": 9,
     "metadata": {},
     "output_type": "execute_result"
    }
   ],
   "source": [
    "12.6-5.6"
   ]
  },
  {
   "cell_type": "markdown",
   "id": "ab929fe8",
   "metadata": {},
   "source": [
    "Division"
   ]
  },
  {
   "cell_type": "code",
   "execution_count": 10,
   "id": "f9470486",
   "metadata": {},
   "outputs": [
    {
     "data": {
      "text/plain": [
       "2.4"
      ]
     },
     "execution_count": 10,
     "metadata": {},
     "output_type": "execute_result"
    }
   ],
   "source": [
    "12/5"
   ]
  },
  {
   "cell_type": "markdown",
   "id": "14ad03b5",
   "metadata": {},
   "source": [
    "Multiplication and addition"
   ]
  },
  {
   "cell_type": "code",
   "execution_count": 4,
   "id": "c724f4f5",
   "metadata": {},
   "outputs": [
    {
     "data": {
      "text/plain": [
       "66"
      ]
     },
     "execution_count": 4,
     "metadata": {},
     "output_type": "execute_result"
    }
   ],
   "source": [
    "12*5+6"
   ]
  },
  {
   "cell_type": "code",
   "execution_count": 11,
   "id": "f73d6239",
   "metadata": {},
   "outputs": [
    {
     "data": {
      "text/plain": [
       "66"
      ]
     },
     "execution_count": 11,
     "metadata": {},
     "output_type": "execute_result"
    }
   ],
   "source": [
    "12 * 5 + 6"
   ]
  },
  {
   "cell_type": "markdown",
   "id": "4becf9d2",
   "metadata": {},
   "source": [
    "Division"
   ]
  },
  {
   "cell_type": "code",
   "execution_count": 6,
   "id": "149e65eb",
   "metadata": {},
   "outputs": [
    {
     "data": {
      "text/plain": [
       "11.428571428571429"
      ]
     },
     "execution_count": 6,
     "metadata": {},
     "output_type": "execute_result"
    }
   ],
   "source": [
    " 80/7\n"
   ]
  },
  {
   "cell_type": "markdown",
   "id": "6e15f0f4",
   "metadata": {},
   "source": [
    "Quontient - //"
   ]
  },
  {
   "cell_type": "code",
   "execution_count": 12,
   "id": "9ae435a1",
   "metadata": {},
   "outputs": [
    {
     "data": {
      "text/plain": [
       "2"
      ]
     },
     "execution_count": 12,
     "metadata": {},
     "output_type": "execute_result"
    }
   ],
   "source": [
    "8//3"
   ]
  },
  {
   "cell_type": "markdown",
   "id": "e05e0e9b",
   "metadata": {},
   "source": [
    "Remainder - %"
   ]
  },
  {
   "cell_type": "code",
   "execution_count": 13,
   "id": "e9dd9675",
   "metadata": {},
   "outputs": [
    {
     "data": {
      "text/plain": [
       "2"
      ]
     },
     "execution_count": 13,
     "metadata": {},
     "output_type": "execute_result"
    }
   ],
   "source": [
    "8 % 3"
   ]
  },
  {
   "cell_type": "code",
   "execution_count": 14,
   "id": "36f17ad6",
   "metadata": {},
   "outputs": [
    {
     "data": {
      "text/plain": [
       "1"
      ]
     },
     "execution_count": 14,
     "metadata": {},
     "output_type": "execute_result"
    }
   ],
   "source": [
    "7 % 2"
   ]
  },
  {
   "cell_type": "markdown",
   "id": "17194d4f",
   "metadata": {},
   "source": [
    "Strings + strings"
   ]
  },
  {
   "cell_type": "code",
   "execution_count": 15,
   "id": "063fbcac",
   "metadata": {},
   "outputs": [
    {
     "data": {
      "text/plain": [
       "'HelloWorld'"
      ]
     },
     "execution_count": 15,
     "metadata": {},
     "output_type": "execute_result"
    }
   ],
   "source": [
    "\"Hello\" + \"World\""
   ]
  },
  {
   "cell_type": "markdown",
   "id": "bbc3c7e2",
   "metadata": {},
   "source": [
    "strings + integer"
   ]
  },
  {
   "cell_type": "code",
   "execution_count": 16,
   "id": "fcc24f1a",
   "metadata": {},
   "outputs": [
    {
     "ename": "TypeError",
     "evalue": "can only concatenate str (not \"int\") to str",
     "output_type": "error",
     "traceback": [
      "\u001b[1;31m---------------------------------------------------------------------------\u001b[0m",
      "\u001b[1;31mTypeError\u001b[0m                                 Traceback (most recent call last)",
      "Cell \u001b[1;32mIn[16], line 1\u001b[0m\n\u001b[1;32m----> 1\u001b[0m \u001b[38;5;124m\"\u001b[39m\u001b[38;5;124mHello\u001b[39m\u001b[38;5;124m\"\u001b[39m \u001b[38;5;241m+\u001b[39m \u001b[38;5;241m3\u001b[39m\n",
      "\u001b[1;31mTypeError\u001b[0m: can only concatenate str (not \"int\") to str"
     ]
    }
   ],
   "source": [
    "\"Hello\" + 3"
   ]
  },
  {
   "cell_type": "code",
   "execution_count": 18,
   "id": "a29ca39d",
   "metadata": {},
   "outputs": [
    {
     "data": {
      "text/plain": [
       "'Hello3'"
      ]
     },
     "execution_count": 18,
     "metadata": {},
     "output_type": "execute_result"
    }
   ],
   "source": [
    "\"Hello\" +\"3\""
   ]
  },
  {
   "cell_type": "code",
   "execution_count": 19,
   "id": "c298ac5e",
   "metadata": {},
   "outputs": [
    {
     "data": {
      "text/plain": [
       "'HelloHelloHello'"
      ]
     },
     "execution_count": 19,
     "metadata": {},
     "output_type": "execute_result"
    }
   ],
   "source": [
    "\"Hello\" * 3"
   ]
  },
  {
   "cell_type": "markdown",
   "id": "73750651",
   "metadata": {},
   "source": [
    "Booleans - made up of true or false values"
   ]
  },
  {
   "cell_type": "code",
   "execution_count": 20,
   "id": "4d6f3610",
   "metadata": {},
   "outputs": [
    {
     "ename": "NameError",
     "evalue": "name 'true' is not defined",
     "output_type": "error",
     "traceback": [
      "\u001b[1;31m---------------------------------------------------------------------------\u001b[0m",
      "\u001b[1;31mNameError\u001b[0m                                 Traceback (most recent call last)",
      "Cell \u001b[1;32mIn[20], line 1\u001b[0m\n\u001b[1;32m----> 1\u001b[0m true \u001b[38;5;241m+\u001b[39m true\n",
      "\u001b[1;31mNameError\u001b[0m: name 'true' is not defined"
     ]
    }
   ],
   "source": [
    "true + true"
   ]
  },
  {
   "cell_type": "code",
   "execution_count": 21,
   "id": "5732f3fe",
   "metadata": {},
   "outputs": [
    {
     "data": {
      "text/plain": [
       "2"
      ]
     },
     "execution_count": 21,
     "metadata": {},
     "output_type": "execute_result"
    }
   ],
   "source": [
    "True + True"
   ]
  },
  {
   "cell_type": "code",
   "execution_count": 22,
   "id": "e31c1f99",
   "metadata": {},
   "outputs": [
    {
     "data": {
      "text/plain": [
       "3"
      ]
     },
     "execution_count": 22,
     "metadata": {},
     "output_type": "execute_result"
    }
   ],
   "source": [
    "True * 3"
   ]
  },
  {
   "cell_type": "code",
   "execution_count": 23,
   "id": "e12f032d",
   "metadata": {},
   "outputs": [
    {
     "data": {
      "text/plain": [
       "0"
      ]
     },
     "execution_count": 23,
     "metadata": {},
     "output_type": "execute_result"
    }
   ],
   "source": [
    "False + False"
   ]
  },
  {
   "cell_type": "code",
   "execution_count": null,
   "id": "c3ad694f",
   "metadata": {},
   "outputs": [],
   "source": []
  }
 ],
 "metadata": {
  "kernelspec": {
   "display_name": "Python 3 (ipykernel)",
   "language": "python",
   "name": "python3"
  },
  "language_info": {
   "codemirror_mode": {
    "name": "ipython",
    "version": 3
   },
   "file_extension": ".py",
   "mimetype": "text/x-python",
   "name": "python",
   "nbconvert_exporter": "python",
   "pygments_lexer": "ipython3",
   "version": "3.11.5"
  }
 },
 "nbformat": 4,
 "nbformat_minor": 5
}
