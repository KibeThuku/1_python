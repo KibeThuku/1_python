{
 "cells": [
  {
   "cell_type": "markdown",
   "id": "79fa84fa",
   "metadata": {},
   "source": [
    "Conditional Statements and Loops "
   ]
  },
  {
   "cell_type": "code",
   "execution_count": 3,
   "id": "60052afb",
   "metadata": {},
   "outputs": [
    {
     "name": "stdout",
     "output_type": "stream",
     "text": [
      "1 2 4 8 16 32 64 128 256 512 "
     ]
    }
   ],
   "source": [
    "for n in range(10):\n",
    "    print (2 ** n, end = \" \")"
   ]
  },
  {
   "cell_type": "code",
   "execution_count": 11,
   "id": "551ba5af",
   "metadata": {},
   "outputs": [
    {
     "name": "stdout",
     "output_type": "stream",
     "text": [
      "x = 0, even x = 1, odd x = 2, even x = 3, odd x = 4, even x = 5, odd x = 6, even x = 7, odd x = 8, even x = 9, odd x = 10, even x = 11, odd x = 12, even x = 13, odd x = 14, even x = 15, odd x = 16, even x = 17, odd x = 18, even x = 19, odd "
     ]
    }
   ],
   "source": [
    "for x in range(20):\n",
    "    if x % 2 == 0:\n",
    "        print (f\"x = {x}, even\", end = \" \")\n",
    "    else:\n",
    "        print(f\"x = {x}, odd\", end = \" \")\n",
    "            "
   ]
  },
  {
   "cell_type": "code",
   "execution_count": 18,
   "id": "d31f3d05",
   "metadata": {},
   "outputs": [
    {
     "name": "stdout",
     "output_type": "stream",
     "text": [
      "x = 0, even x = 1, odd\n",
      "x = 2, even x = 3, odd\n",
      "x = 4, even x = 5, odd\n",
      "x = 6, even x = 7, odd\n",
      "x = 8, even x = 9, odd\n",
      "x = 10, even x = 11, odd\n",
      "x = 12, even x = 13, odd\n",
      "x = 14, even x = 15, odd\n",
      "x = 16, even x = 17, odd\n",
      "x = 18, even x = 19, odd\n"
     ]
    }
   ],
   "source": [
    "for x in range(20):\n",
    "    if x % 2 == 0:\n",
    "        print (f\"x = {x}, even\", end = \" \")\n",
    "    else:\n",
    "        print(f\"x = {x}, odd\")"
   ]
  },
  {
   "cell_type": "code",
   "execution_count": 19,
   "id": "5c004597",
   "metadata": {},
   "outputs": [],
   "source": [
    "x = [45,12,-96]"
   ]
  },
  {
   "cell_type": "code",
   "execution_count": 20,
   "id": "a6e79e9f",
   "metadata": {},
   "outputs": [
    {
     "name": "stdout",
     "output_type": "stream",
     "text": [
      "45\n",
      "12\n",
      "-96\n"
     ]
    }
   ],
   "source": [
    "for item in x:\n",
    "    print (item)"
   ]
  },
  {
   "cell_type": "code",
   "execution_count": 24,
   "id": "1bdc415f",
   "metadata": {},
   "outputs": [
    {
     "name": "stdout",
     "output_type": "stream",
     "text": [
      "45\n",
      "12\n",
      "-96\n"
     ]
    }
   ],
   "source": [
    "for item in range(len(x)):\n",
    "    print (x[item])"
   ]
  },
  {
   "cell_type": "markdown",
   "id": "380b93f4",
   "metadata": {},
   "source": [
    "Conditional Statements and Loops - Exercise #1\n",
    "\n",
    "\n",
    "Create a For loop that will print all the variables from a given list multiplied by 2. Let the list contain all numbers from 1 to 10. Create it with the help of the range() function."
   ]
  },
  {
   "cell_type": "code",
   "execution_count": 27,
   "id": "5c367c8c",
   "metadata": {},
   "outputs": [
    {
     "name": "stdout",
     "output_type": "stream",
     "text": [
      "2 4 6 8 10 12 14 16 18 20 "
     ]
    }
   ],
   "source": [
    "for var in range(1,11):\n",
    "    var *= 2\n",
    "    print(var, end = \" \")"
   ]
  },
  {
   "cell_type": "markdown",
   "id": "e8a951ca",
   "metadata": {},
   "source": [
    "Conditional Statements and Loops - Exercise #2\n",
    "\n",
    "\n",
    "Create a little program that runs a loop over all values from 1 to 30. Let it print all odd numbers, and in the place of the even numbers, it should print \"Even\". Help yourself with the range() function to solve this exercise."
   ]
  },
  {
   "cell_type": "code",
   "execution_count": 33,
   "id": "d4958211",
   "metadata": {},
   "outputs": [
    {
     "name": "stdout",
     "output_type": "stream",
     "text": [
      "1 Even 3 Even 5 Even 7 Even 9 Even 11 Even 13 Even 15 Even 17 Even 19 Even 21 Even 23 Even 25 Even 27 Even 29 Even "
     ]
    }
   ],
   "source": [
    "for val in range(1,31):\n",
    "    if val % 2 == 0:\n",
    "        print(\"Even\", end = \" \")\n",
    "    else:\n",
    "        print(val, end = \" \")"
   ]
  },
  {
   "cell_type": "markdown",
   "id": "ced60523",
   "metadata": {},
   "source": [
    "Conditional Statements and Loops - Exercise #3\n",
    "\n",
    "\n",
    "You have the following list of numbers. Iterate over this list, printing out each list value multiplied by 10. Find two solutions of this problem."
   ]
  },
  {
   "cell_type": "code",
   "execution_count": 38,
   "id": "47b9c9ed",
   "metadata": {},
   "outputs": [
    {
     "name": "stdout",
     "output_type": "stream",
     "text": [
      "10 20 30 40 50 60 "
     ]
    }
   ],
   "source": [
    "n = [1,2,3,4,5,6]\n",
    "\n",
    "for num in n:\n",
    "    print(num * 10, end = \" \")"
   ]
  },
  {
   "cell_type": "code",
   "execution_count": 39,
   "id": "b457acb3",
   "metadata": {},
   "outputs": [
    {
     "name": "stdout",
     "output_type": "stream",
     "text": [
      "10 20 30 40 50 60 "
     ]
    }
   ],
   "source": [
    "for item in range(len(n)):\n",
    "    print (n[item] * 10, end = \" \")"
   ]
  },
  {
   "cell_type": "markdown",
   "id": "9555c44f",
   "metadata": {},
   "source": [
    "conditional loops for functions"
   ]
  },
  {
   "cell_type": "code",
   "execution_count": 42,
   "id": "202f5f13",
   "metadata": {},
   "outputs": [],
   "source": [
    "def count(numbers):\n",
    "    total = 0\n",
    "    for x in numbers:\n",
    "        if x < 20:\n",
    "            total += 1\n",
    "    return total"
   ]
  },
  {
   "cell_type": "code",
   "execution_count": 43,
   "id": "0d5b33b9",
   "metadata": {},
   "outputs": [
    {
     "data": {
      "text/plain": [
       "4"
      ]
     },
     "execution_count": 43,
     "metadata": {},
     "output_type": "execute_result"
    }
   ],
   "source": [
    "list_1 = [5,27,15,13,35,7758,78,-79]\n",
    "count(list_1)"
   ]
  },
  {
   "cell_type": "code",
   "execution_count": 44,
   "id": "a596b518",
   "metadata": {},
   "outputs": [
    {
     "data": {
      "text/plain": [
       "2"
      ]
     },
     "execution_count": 44,
     "metadata": {},
     "output_type": "execute_result"
    }
   ],
   "source": [
    "list_1 = [27,15,35,7758,78,-79]\n",
    "count(list_1)"
   ]
  },
  {
   "cell_type": "code",
   "execution_count": 45,
   "id": "78ffc7ea",
   "metadata": {},
   "outputs": [],
   "source": [
    "nums = [1,35,12,24,31,51,70,100]\n",
    "\n"
   ]
  },
  {
   "cell_type": "markdown",
   "id": "2bf79490",
   "metadata": {},
   "source": [
    "how to iterate over dictionaries"
   ]
  },
  {
   "cell_type": "code",
   "execution_count": 46,
   "id": "6251fcf6",
   "metadata": {},
   "outputs": [
    {
     "name": "stdout",
     "output_type": "stream",
     "text": [
      "1180\n"
     ]
    }
   ],
   "source": [
    "prices = {\"spaghetti\" : 40, \"lasagna\" : 50, \"hamburger\" : 250}\n",
    "quantity = {\"spaghetti\" : 2, \"lasagna\" : 7, \"hamburger\" : 3}\n",
    "\n",
    "money_spent = 0\n",
    "\n",
    "for i in prices:\n",
    "    money_spent = money_spent + (prices[i] * quantity[i])\n",
    "print(money_spent)"
   ]
  },
  {
   "cell_type": "code",
   "execution_count": 47,
   "id": "2bb7b483",
   "metadata": {},
   "outputs": [
    {
     "data": {
      "text/plain": [
       "1180"
      ]
     },
     "execution_count": 47,
     "metadata": {},
     "output_type": "execute_result"
    }
   ],
   "source": [
    "(40 * 2) + (50 * 7) + (250 * 3)"
   ]
  },
  {
   "cell_type": "markdown",
   "id": "7a1024c2",
   "metadata": {},
   "source": [
    "How to Iterate over Dictionaries - Exercise #1\n",
    "\n",
    "\n",
    "In this exercise you will use the same dictionaries as the ones we used in the lesson - prices and quantity. This time, don't just calculate all the money Jan spent. Calculate how much she spent on products with a price of 5 dollars or more."
   ]
  },
  {
   "cell_type": "code",
   "execution_count": null,
   "id": "c2ba2dd8",
   "metadata": {},
   "outputs": [],
   "source": [
    "prices = {\n",
    "    \"box_of_spaghetti\" : 4,\n",
    "    \"lasagna\"  : 5,\n",
    "    \"hamburger\" : 2\n",
    "   }\n",
    "quantity = {\n",
    "    \"box_of_spaghetti\" : 6,\n",
    "    \"lasagna\"  : 10,\n",
    "    \"hamburger\" : 0\n",
    "    }\n",
    "\n",
    "money_spent = 0"
   ]
  }
 ],
 "metadata": {
  "kernelspec": {
   "display_name": "Python 3 (ipykernel)",
   "language": "python",
   "name": "python3"
  },
  "language_info": {
   "codemirror_mode": {
    "name": "ipython",
    "version": 3
   },
   "file_extension": ".py",
   "mimetype": "text/x-python",
   "name": "python",
   "nbconvert_exporter": "python",
   "pygments_lexer": "ipython3",
   "version": "3.11.5"
  }
 },
 "nbformat": 4,
 "nbformat_minor": 5
}
