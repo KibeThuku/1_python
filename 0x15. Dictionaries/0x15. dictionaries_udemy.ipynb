{
 "cells": [
  {
   "cell_type": "markdown",
   "id": "650c4a43",
   "metadata": {},
   "source": [
    "**1. Each value is associated with its key**\n",
    "\n",
    "- **curly braces {} are used to represent dictionaries***"
   ]
  },
  {
   "cell_type": "code",
   "execution_count": 1,
   "id": "8b192aec",
   "metadata": {},
   "outputs": [
    {
     "data": {
      "text/plain": [
       "{'k1': 'cat', 'k2': 'dog', 'k3': 'mouse', 'k4': 'fish'}"
      ]
     },
     "execution_count": 1,
     "metadata": {},
     "output_type": "execute_result"
    }
   ],
   "source": [
    "dict = {'k1': \"cat\", 'k2': \"dog\", 'k3': \"mouse\", 'k4': \"fish\"}\n",
    "dict"
   ]
  },
  {
   "cell_type": "markdown",
   "id": "2d552049",
   "metadata": {},
   "source": [
    "**2. using a key to call a value**"
   ]
  },
  {
   "cell_type": "code",
   "execution_count": 3,
   "id": "50debc7e",
   "metadata": {},
   "outputs": [
    {
     "data": {
      "text/plain": [
       "'dog'"
      ]
     },
     "execution_count": 3,
     "metadata": {},
     "output_type": "execute_result"
    }
   ],
   "source": [
    "dict['k2']"
   ]
  },
  {
   "cell_type": "markdown",
   "id": "09b8caca",
   "metadata": {},
   "source": [
    "**3. Adding  a new key**"
   ]
  },
  {
   "cell_type": "code",
   "execution_count": 5,
   "id": "c3cab78d",
   "metadata": {},
   "outputs": [
    {
     "data": {
      "text/plain": [
       "{'k1': 'cat', 'k2': 'dog', 'k3': 'mouse', 'k4': 'fish', 'k5': 'Chicken'}"
      ]
     },
     "execution_count": 5,
     "metadata": {},
     "output_type": "execute_result"
    }
   ],
   "source": [
    "dict['k5'] = 'Chicken'\n",
    "dict"
   ]
  },
  {
   "cell_type": "code",
   "execution_count": 16,
   "id": "9afefc3b",
   "metadata": {},
   "outputs": [
    {
     "ename": "TypeError",
     "evalue": "'dict' object is not callable",
     "output_type": "error",
     "traceback": [
      "\u001b[1;31m---------------------------------------------------------------------------\u001b[0m",
      "\u001b[1;31mTypeError\u001b[0m                                 Traceback (most recent call last)",
      "Cell \u001b[1;32mIn[16], line 1\u001b[0m\n\u001b[1;32m----> 1\u001b[0m \u001b[38;5;28mdict\u001b[39m(\u001b[38;5;241m2\u001b[39m)\n",
      "\u001b[1;31mTypeError\u001b[0m: 'dict' object is not callable"
     ]
    }
   ],
   "source": [
    "dict(2)"
   ]
  },
  {
   "cell_type": "markdown",
   "id": "690330e3",
   "metadata": {},
   "source": [
    "**4. changing key**"
   ]
  },
  {
   "cell_type": "code",
   "execution_count": 9,
   "id": "d9a79fe8",
   "metadata": {},
   "outputs": [
    {
     "data": {
      "text/plain": [
       "{'k1': 'cat',\n",
       " 'k2': 'kangaroo',\n",
       " 'k3': 'mouse',\n",
       " 'k4': 'fish',\n",
       " 'k5': 'Chicken',\n",
       " 'k6': 'kangaroo'}"
      ]
     },
     "execution_count": 9,
     "metadata": {},
     "output_type": "execute_result"
    }
   ],
   "source": [
    "dict['k2'] = 'kangaroo'\n",
    "dict"
   ]
  },
  {
   "cell_type": "markdown",
   "id": "104e5db1",
   "metadata": {},
   "source": [
    "**5. adding a list in a dicionary**"
   ]
  },
  {
   "cell_type": "code",
   "execution_count": 13,
   "id": "0a49419b",
   "metadata": {},
   "outputs": [],
   "source": [
    "dep_workers = {'finance': \"Francis\", 'prod': [\"Kiragu\", \"Shawn\", \"Mackenzi\"]}"
   ]
  },
  {
   "cell_type": "code",
   "execution_count": 14,
   "id": "d984be68",
   "metadata": {},
   "outputs": [
    {
     "data": {
      "text/plain": [
       "['Kiragu', 'Shawn', 'Mackenzi']"
      ]
     },
     "execution_count": 14,
     "metadata": {},
     "output_type": "execute_result"
    }
   ],
   "source": [
    "dep_workers['prod']"
   ]
  },
  {
   "cell_type": "markdown",
   "id": "ca504f95",
   "metadata": {},
   "source": [
    "**6. filling a dictionary**"
   ]
  },
  {
   "cell_type": "markdown",
   "id": "f2b5750b",
   "metadata": {},
   "source": [
    "Create a new dictionary called Price_list that contains the first five meals of the Menu dictionary as keys and assign the following five values as prices (assumed in dollars): 10, 5, 8, 12, 5. Start by Price_list = {}."
   ]
  },
  {
   "cell_type": "code",
   "execution_count": 18,
   "id": "53847b13",
   "metadata": {},
   "outputs": [
    {
     "ename": "SyntaxError",
     "evalue": "cannot assign to literal here. Maybe you meant '==' instead of '='? (2111357003.py, line 3)",
     "output_type": "error",
     "traceback": [
      "\u001b[1;36m  Cell \u001b[1;32mIn[18], line 3\u001b[1;36m\u001b[0m\n\u001b[1;33m    Price_list = {'Menu[meal_1]' = '10'}\u001b[0m\n\u001b[1;37m                  ^\u001b[0m\n\u001b[1;31mSyntaxError\u001b[0m\u001b[1;31m:\u001b[0m cannot assign to literal here. Maybe you meant '==' instead of '='?\n"
     ]
    }
   ],
   "source": [
    "Menu = {'meal_1':'Spaghetti', 'meal_2':'Fries', 'meal_3':'Cheeseburger', 'meal_4':'Lasagna', 'meal_5':'Soup'}\n",
    "\n",
    "Price_list = {'Menu[meal_1]' = '10'}\n",
    "\n",
    "return price_list"
   ]
  },
  {
   "cell_type": "code",
   "execution_count": null,
   "id": "143ac5cd",
   "metadata": {},
   "outputs": [],
   "source": []
  }
 ],
 "metadata": {
  "kernelspec": {
   "display_name": "Python 3 (ipykernel)",
   "language": "python",
   "name": "python3"
  },
  "language_info": {
   "codemirror_mode": {
    "name": "ipython",
    "version": 3
   },
   "file_extension": ".py",
   "mimetype": "text/x-python",
   "name": "python",
   "nbconvert_exporter": "python",
   "pygments_lexer": "ipython3",
   "version": "3.11.5"
  }
 },
 "nbformat": 4,
 "nbformat_minor": 5
}
