{
 "cells": [
  {
   "cell_type": "markdown",
   "id": "70acaf7f",
   "metadata": {},
   "source": [
    "elif statement"
   ]
  },
  {
   "cell_type": "code",
   "execution_count": 9,
   "id": "0da48fad",
   "metadata": {},
   "outputs": [],
   "source": [
    "def compare_to_five(y):\n",
    "    \n",
    "    if y > 5:\n",
    "        return \"Greater\"\n",
    "    elif y < 0:\n",
    "        return \"Negative\"\n",
    "    elif y < 5:\n",
    "        return \"Less\"\n",
    "    else:\n",
    "        return \"Equal\""
   ]
  },
  {
   "cell_type": "code",
   "execution_count": 10,
   "id": "6663e7f8",
   "metadata": {},
   "outputs": [
    {
     "name": "stdout",
     "output_type": "stream",
     "text": [
      "Greater\n"
     ]
    }
   ],
   "source": [
    "print (compare_to_five(20))"
   ]
  },
  {
   "cell_type": "code",
   "execution_count": 11,
   "id": "80f20bef",
   "metadata": {},
   "outputs": [
    {
     "name": "stdout",
     "output_type": "stream",
     "text": [
      "Less\n"
     ]
    }
   ],
   "source": [
    "print (compare_to_five(2))"
   ]
  },
  {
   "cell_type": "code",
   "execution_count": 12,
   "id": "3012b676",
   "metadata": {},
   "outputs": [
    {
     "name": "stdout",
     "output_type": "stream",
     "text": [
      "Negative\n"
     ]
    }
   ],
   "source": [
    "print (compare_to_five(-0.8))"
   ]
  },
  {
   "cell_type": "markdown",
   "id": "c22a214c",
   "metadata": {},
   "source": [
    "Create the following piece of code: If x > 200, print out \"Big\"; If x > 100 and x <= 200, print out \"Average\"; and If x <= 100, print out \"Small\". Use the if, elif, and else keywords in your code."
   ]
  },
  {
   "cell_type": "code",
   "execution_count": 30,
   "id": "c05e4f7e",
   "metadata": {},
   "outputs": [
    {
     "name": "stdout",
     "output_type": "stream",
     "text": [
      "Small\n"
     ]
    }
   ],
   "source": [
    "x = 12\n",
    "\n",
    "if x < 100:\n",
    "    print(\"Small\")\n",
    "    \n",
    "elif x > 100 and x <= 200:\n",
    "    print(\"Average\")\n",
    "    \n",
    "else:\n",
    "    print(\"Big\")"
   ]
  },
  {
   "cell_type": "markdown",
   "id": "981c7d90",
   "metadata": {},
   "source": [
    "- Keep the first two conditions of the code from the previous exercise \n",
    "\n",
    "- (if x > 200, \n",
    "    - print out \"Big\"; \n",
    "\n",
    "- If x > 100 and x <= 200, \n",
    "    - print out \"Average\").\n",
    "\n",
    "Add a new elif statement, so that, eventually, the program \n",
    "\n",
    "- prints \"Small\" \n",
    "    - if x >= 0 and x <= 100, and \n",
    "\n",
    "- prints \"Negative\" \n",
    "    - if x < 0."
   ]
  },
  {
   "cell_type": "code",
   "execution_count": 33,
   "id": "6e7ece1a",
   "metadata": {},
   "outputs": [
    {
     "name": "stdout",
     "output_type": "stream",
     "text": [
      "Small\n"
     ]
    }
   ],
   "source": [
    "x = 15\n",
    "\n",
    "if x > 200: \n",
    "    print (\"Big\")\n",
    "    \n",
    "elif x > 100 and x <= 200:\n",
    "    print (\"Average\")\n",
    "    \n",
    "elif x > 0 and x <= 100:\n",
    "    print (\"Small\")\n",
    "\n",
    "else:\n",
    "    print (\"Negative\")"
   ]
  },
  {
   "cell_type": "code",
   "execution_count": null,
   "id": "0b839b10",
   "metadata": {},
   "outputs": [],
   "source": []
  }
 ],
 "metadata": {
  "kernelspec": {
   "display_name": "Python 3 (ipykernel)",
   "language": "python",
   "name": "python3"
  },
  "language_info": {
   "codemirror_mode": {
    "name": "ipython",
    "version": 3
   },
   "file_extension": ".py",
   "mimetype": "text/x-python",
   "name": "python",
   "nbconvert_exporter": "python",
   "pygments_lexer": "ipython3",
   "version": "3.11.5"
  }
 },
 "nbformat": 4,
 "nbformat_minor": 5
}
